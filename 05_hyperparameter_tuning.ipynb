{
 "cells": [
  {
   "cell_type": "code",
   "execution_count": 1,
   "metadata": {},
   "outputs": [],
   "source": [
    "import tensorflow as tf\n",
    "from tensorflow import keras\n",
    "\n",
    "import IPython"
   ]
  },
  {
   "cell_type": "code",
   "execution_count": 2,
   "metadata": {},
   "outputs": [],
   "source": [
    "# !pip install -q -U keras-tuner\n",
    "\n",
    "import kerastuner as kt"
   ]
  },
  {
   "cell_type": "code",
   "execution_count": 3,
   "metadata": {},
   "outputs": [],
   "source": [
    "(img_train, label_train), (img_test, label_test) = keras.datasets.fashion_mnist.load_data()"
   ]
  },
  {
   "cell_type": "code",
   "execution_count": 4,
   "metadata": {},
   "outputs": [],
   "source": [
    "# Normalize pixel values between 0 and 1\n",
    "img_train = img_train.astype('float32') / 255.0\n",
    "img_test = img_test.astype('float32') / 255.0"
   ]
  },
  {
   "cell_type": "code",
   "execution_count": 5,
   "metadata": {},
   "outputs": [],
   "source": [
    "def model_builder(hp):\n",
    "    model = keras.Sequential()\n",
    "    model.add(keras.layers.Flatten(input_shape=(28, 28)))\n",
    "  \n",
    "    # Tune the number of units in the first Dense layer\n",
    "    # Choose an optimal value between 32-512\n",
    "    hp_units = hp.Int('units', min_value = 32, max_value = 512, step = 32)\n",
    "    model.add(keras.layers.Dense(units = hp_units, activation = 'relu'))\n",
    "    model.add(keras.layers.Dense(10))\n",
    "\n",
    "    # Tune the learning rate for the optimizer \n",
    "    # Choose an optimal value from 0.01, 0.001, or 0.0001\n",
    "    hp_learning_rate = hp.Choice('learning_rate', values = [1e-2, 1e-3, 1e-4]) \n",
    "\n",
    "    model.compile(optimizer = keras.optimizers.Adam(learning_rate = hp_learning_rate),\n",
    "                  loss = keras.losses.SparseCategoricalCrossentropy(from_logits = True), \n",
    "                  metrics = ['accuracy'])\n",
    "\n",
    "    return model"
   ]
  },
  {
   "cell_type": "code",
   "execution_count": 6,
   "metadata": {},
   "outputs": [],
   "source": [
    "tuner = kt.Hyperband(model_builder,\n",
    "                     objective = 'val_accuracy', \n",
    "                     max_epochs = 10,\n",
    "                     factor = 3,\n",
    "                     directory = 'my_dir',\n",
    "                     project_name = 'intro_to_kt')    "
   ]
  },
  {
   "cell_type": "code",
   "execution_count": 7,
   "metadata": {},
   "outputs": [],
   "source": [
    "class ClearTrainingOutput(tf.keras.callbacks.Callback):\n",
    "    def on_train_end(*args, **kwargs):\n",
    "        IPython.display.clear_output(wait = True)"
   ]
  },
  {
   "cell_type": "code",
   "execution_count": 8,
   "metadata": {},
   "outputs": [
    {
     "data": {
      "text/html": [
       "<span style=\"color:#4527A0\"><h1 style=\"font-size:18px\">Trial complete</h1></span>"
      ],
      "text/plain": [
       "<IPython.core.display.HTML object>"
      ]
     },
     "metadata": {},
     "output_type": "display_data"
    },
    {
     "data": {
      "text/html": [
       "<span style=\"color:#4527A0\"><h1 style=\"font-size:18px\">Trial summary</h1></span>"
      ],
      "text/plain": [
       "<IPython.core.display.HTML object>"
      ]
     },
     "metadata": {},
     "output_type": "display_data"
    },
    {
     "data": {
      "text/html": [
       "<span style=\"color:cyan\"> |-Trial ID: 952f7bccf2f6eb13826e72fc5ef8ab5f</span>"
      ],
      "text/plain": [
       "<IPython.core.display.HTML object>"
      ]
     },
     "metadata": {},
     "output_type": "display_data"
    },
    {
     "data": {
      "text/html": [
       "<span style=\"color:cyan\"> |-Score: 0.8878999948501587</span>"
      ],
      "text/plain": [
       "<IPython.core.display.HTML object>"
      ]
     },
     "metadata": {},
     "output_type": "display_data"
    },
    {
     "data": {
      "text/html": [
       "<span style=\"color:cyan\"> |-Best step: 0</span>"
      ],
      "text/plain": [
       "<IPython.core.display.HTML object>"
      ]
     },
     "metadata": {},
     "output_type": "display_data"
    },
    {
     "data": {
      "text/html": [
       "<span style=\"color:#7E57C2\"><h2 style=\"font-size:16px\">Hyperparameters:</h2></span>"
      ],
      "text/plain": [
       "<IPython.core.display.HTML object>"
      ]
     },
     "metadata": {},
     "output_type": "display_data"
    },
    {
     "data": {
      "text/html": [
       "<span style=\"color:cyan\"> |-learning_rate: 0.001</span>"
      ],
      "text/plain": [
       "<IPython.core.display.HTML object>"
      ]
     },
     "metadata": {},
     "output_type": "display_data"
    },
    {
     "data": {
      "text/html": [
       "<span style=\"color:blue\"> |-tuner/bracket: 0</span>"
      ],
      "text/plain": [
       "<IPython.core.display.HTML object>"
      ]
     },
     "metadata": {},
     "output_type": "display_data"
    },
    {
     "data": {
      "text/html": [
       "<span style=\"color:cyan\"> |-tuner/epochs: 10</span>"
      ],
      "text/plain": [
       "<IPython.core.display.HTML object>"
      ]
     },
     "metadata": {},
     "output_type": "display_data"
    },
    {
     "data": {
      "text/html": [
       "<span style=\"color:blue\"> |-tuner/initial_epoch: 0</span>"
      ],
      "text/plain": [
       "<IPython.core.display.HTML object>"
      ]
     },
     "metadata": {},
     "output_type": "display_data"
    },
    {
     "data": {
      "text/html": [
       "<span style=\"color:cyan\"> |-tuner/round: 0</span>"
      ],
      "text/plain": [
       "<IPython.core.display.HTML object>"
      ]
     },
     "metadata": {},
     "output_type": "display_data"
    },
    {
     "data": {
      "text/html": [
       "<span style=\"color:blue\"> |-units: 256</span>"
      ],
      "text/plain": [
       "<IPython.core.display.HTML object>"
      ]
     },
     "metadata": {},
     "output_type": "display_data"
    },
    {
     "name": "stdout",
     "output_type": "stream",
     "text": [
      "INFO:tensorflow:Oracle triggered exit\n",
      "\n",
      "The hyperparameter search is complete. The optimal number of units in the first densely-connected\n",
      "layer is 256 and the optimal learning rate for the optimizer\n",
      "is 0.001.\n",
      "\n"
     ]
    }
   ],
   "source": [
    "tuner.search(img_train, label_train, epochs = 10, validation_data = (img_test, label_test), callbacks = [ClearTrainingOutput()])\n",
    "\n",
    "# Get the optimal hyperparameters\n",
    "best_hps = tuner.get_best_hyperparameters(num_trials = 1)[0]\n",
    "\n",
    "print(f\"\"\"\n",
    "The hyperparameter search is complete. The optimal number of units in the first densely-connected\n",
    "layer is {best_hps.get('units')} and the optimal learning rate for the optimizer\n",
    "is {best_hps.get('learning_rate')}.\n",
    "\"\"\")"
   ]
  },
  {
   "cell_type": "code",
   "execution_count": 9,
   "metadata": {},
   "outputs": [
    {
     "name": "stdout",
     "output_type": "stream",
     "text": [
      "Epoch 1/10\n"
     ]
    },
    {
     "name": "stdout",
     "output_type": "stream",
     "text": [
      "1567/1875 [========================>.....] - ETA: 0s - loss: 2.4355 - accuracy: 0.28 - ETA: 11s - loss: 1.8469 - accuracy: 0.429 - ETA: 9s - loss: 1.4085 - accuracy: 0.562 - ETA: 10s - loss: 1.2691 - accuracy: 0.584 - ETA: 9s - loss: 1.1369 - accuracy: 0.617 - ETA: 11s - loss: 1.1228 - accuracy: 0.622 - ETA: 11s - loss: 1.0818 - accuracy: 0.636 - ETA: 11s - loss: 1.0268 - accuracy: 0.652 - ETA: 10s - loss: 0.9502 - accuracy: 0.678 - ETA: 9s - loss: 0.8855 - accuracy: 0.697 - ETA: 9s - loss: 0.8622 - accuracy: 0.70 - ETA: 10s - loss: 0.8585 - accuracy: 0.706 - ETA: 11s - loss: 0.8573 - accuracy: 0.707 - ETA: 12s - loss: 0.8541 - accuracy: 0.708 - ETA: 11s - loss: 0.8332 - accuracy: 0.714 - ETA: 12s - loss: 0.8300 - accuracy: 0.715 - ETA: 12s - loss: 0.8261 - accuracy: 0.717 - ETA: 13s - loss: 0.8252 - accuracy: 0.718 - ETA: 13s - loss: 0.8131 - accuracy: 0.721 - ETA: 14s - loss: 0.8103 - accuracy: 0.722 - ETA: 14s - loss: 0.8015 - accuracy: 0.725 - ETA: 13s - loss: 0.7852 - accuracy: 0.730 - ETA: 12s - loss: 0.7661 - accuracy: 0.736 - ETA: 11s - loss: 0.7457 - accuracy: 0.745 - ETA: 11s - loss: 0.7348 - accuracy: 0.748 - ETA: 10s - loss: 0.7232 - accuracy: 0.751 - ETA: 10s - loss: 0.7184 - accuracy: 0.752 - ETA: 10s - loss: 0.7111 - accuracy: 0.754 - ETA: 9s - loss: 0.6987 - accuracy: 0.758 - ETA: 9s - loss: 0.6924 - accuracy: 0.76 - ETA: 9s - loss: 0.6866 - accuracy: 0.76 - ETA: 9s - loss: 0.6763 - accuracy: 0.76 - ETA: 9s - loss: 0.6751 - accuracy: 0.76 - ETA: 9s - loss: 0.6734 - accuracy: 0.76 - ETA: 8s - loss: 0.6633 - accuracy: 0.77 - ETA: 8s - loss: 0.6561 - accuracy: 0.77 - ETA: 8s - loss: 0.6516 - accuracy: 0.77 - ETA: 8s - loss: 0.6516 - accuracy: 0.77 - ETA: 8s - loss: 0.6490 - accuracy: 0.77 - ETA: 8s - loss: 0.6464 - accuracy: 0.77 - ETA: 8s - loss: 0.6399 - accuracy: 0.77 - ETA: 8s - loss: 0.6383 - accuracy: 0.77 - ETA: 8s - loss: 0.6331 - accuracy: 0.78 - ETA: 8s - loss: 0.6327 - accuracy: 0.78 - ETA: 8s - loss: 0.6299 - accuracy: 0.78 - ETA: 7s - loss: 0.6242 - accuracy: 0.78 - ETA: 7s - loss: 0.6203 - accuracy: 0.78 - ETA: 7s - loss: 0.6203 - accuracy: 0.78 - ETA: 7s - loss: 0.6184 - accuracy: 0.78 - ETA: 8s - loss: 0.6176 - accuracy: 0.78 - ETA: 8s - loss: 0.6163 - accuracy: 0.78 - ETA: 8s - loss: 0.6153 - accuracy: 0.78 - ETA: 8s - loss: 0.6125 - accuracy: 0.78 - ETA: 8s - loss: 0.6133 - accuracy: 0.78 - ETA: 8s - loss: 0.6126 - accuracy: 0.78 - ETA: 8s - loss: 0.6112 - accuracy: 0.78 - ETA: 8s - loss: 0.6104 - accuracy: 0.78 - ETA: 7s - loss: 0.6073 - accuracy: 0.78 - ETA: 8s - loss: 0.6076 - accuracy: 0.78 - ETA: 8s - loss: 0.6063 - accuracy: 0.78 - ETA: 8s - loss: 0.6053 - accuracy: 0.79 - ETA: 8s - loss: 0.6048 - accuracy: 0.79 - ETA: 8s - loss: 0.6047 - accuracy: 0.79 - ETA: 8s - loss: 0.6038 - accuracy: 0.79 - ETA: 8s - loss: 0.5989 - accuracy: 0.79 - ETA: 8s - loss: 0.5955 - accuracy: 0.79 - ETA: 8s - loss: 0.5949 - accuracy: 0.79 - ETA: 8s - loss: 0.5904 - accuracy: 0.79 - ETA: 7s - loss: 0.5879 - accuracy: 0.79 - ETA: 7s - loss: 0.5848 - accuracy: 0.79 - ETA: 7s - loss: 0.5830 - accuracy: 0.79 - ETA: 7s - loss: 0.5821 - accuracy: 0.79 - ETA: 7s - loss: 0.5816 - accuracy: 0.79 - ETA: 7s - loss: 0.5811 - accuracy: 0.79 - ETA: 7s - loss: 0.5812 - accuracy: 0.79 - ETA: 7s - loss: 0.5803 - accuracy: 0.79 - ETA: 7s - loss: 0.5797 - accuracy: 0.79 - ETA: 7s - loss: 0.5794 - accuracy: 0.79 - ETA: 7s - loss: 0.5791 - accuracy: 0.79 - ETA: 7s - loss: 0.5785 - accuracy: 0.80 - ETA: 7s - loss: 0.5777 - accuracy: 0.80 - ETA: 7s - loss: 0.5771 - accuracy: 0.80 - ETA: 7s - loss: 0.5755 - accuracy: 0.80 - ETA: 7s - loss: 0.5755 - accuracy: 0.80 - ETA: 7s - loss: 0.5716 - accuracy: 0.80 - ETA: 7s - loss: 0.5701 - accuracy: 0.80 - ETA: 7s - loss: 0.5674 - accuracy: 0.80 - ETA: 6s - loss: 0.5654 - accuracy: 0.80 - ETA: 6s - loss: 0.5621 - accuracy: 0.80 - ETA: 6s - loss: 0.5619 - accuracy: 0.80 - ETA: 6s - loss: 0.5613 - accuracy: 0.80 - ETA: 6s - loss: 0.5591 - accuracy: 0.80 - ETA: 6s - loss: 0.5588 - accuracy: 0.80 - ETA: 6s - loss: 0.5564 - accuracy: 0.80 - ETA: 6s - loss: 0.5552 - accuracy: 0.80 - ETA: 6s - loss: 0.5545 - accuracy: 0.80 - ETA: 6s - loss: 0.5545 - accuracy: 0.80 - ETA: 6s - loss: 0.5537 - accuracy: 0.80 - ETA: 6s - loss: 0.5524 - accuracy: 0.80 - ETA: 6s - loss: 0.5517 - accuracy: 0.80 - ETA: 6s - loss: 0.5515 - accuracy: 0.80 - ETA: 6s - loss: 0.5509 - accuracy: 0.80 - ETA: 6s - loss: 0.5508 - accuracy: 0.80 - ETA: 6s - loss: 0.5504 - accuracy: 0.80 - ETA: 6s - loss: 0.5499 - accuracy: 0.80 - ETA: 6s - loss: 0.5505 - accuracy: 0.80 - ETA: 6s - loss: 0.5503 - accuracy: 0.80 - ETA: 6s - loss: 0.5498 - accuracy: 0.80 - ETA: 6s - loss: 0.5496 - accuracy: 0.80 - ETA: 6s - loss: 0.5495 - accuracy: 0.80 - ETA: 6s - loss: 0.5478 - accuracy: 0.80 - ETA: 6s - loss: 0.5474 - accuracy: 0.80 - ETA: 6s - loss: 0.5470 - accuracy: 0.80 - ETA: 6s - loss: 0.5465 - accuracy: 0.80 - ETA: 6s - loss: 0.5461 - accuracy: 0.81 - ETA: 6s - loss: 0.5412 - accuracy: 0.81 - ETA: 6s - loss: 0.5411 - accuracy: 0.81 - ETA: 6s - loss: 0.5403 - accuracy: 0.81 - ETA: 6s - loss: 0.5404 - accuracy: 0.81 - ETA: 6s - loss: 0.5410 - accuracy: 0.81 - ETA: 6s - loss: 0.5407 - accuracy: 0.81 - ETA: 6s - loss: 0.5401 - accuracy: 0.81 - ETA: 6s - loss: 0.5397 - accuracy: 0.81 - ETA: 6s - loss: 0.5397 - accuracy: 0.81 - ETA: 6s - loss: 0.5392 - accuracy: 0.81 - ETA: 6s - loss: 0.5391 - accuracy: 0.81 - ETA: 6s - loss: 0.5389 - accuracy: 0.81 - ETA: 6s - loss: 0.5377 - accuracy: 0.81 - ETA: 6s - loss: 0.5368 - accuracy: 0.81 - ETA: 5s - loss: 0.5344 - accuracy: 0.81 - ETA: 5s - loss: 0.5339 - accuracy: 0.81 - ETA: 5s - loss: 0.5340 - accuracy: 0.81 - ETA: 5s - loss: 0.5336 - accuracy: 0.81 - ETA: 5s - loss: 0.5330 - accuracy: 0.81 - ETA: 5s - loss: 0.5294 - accuracy: 0.81 - ETA: 5s - loss: 0.5279 - accuracy: 0.81 - ETA: 5s - loss: 0.5277 - accuracy: 0.81 - ETA: 5s - loss: 0.5276 - accuracy: 0.81 - ETA: 5s - loss: 0.5272 - accuracy: 0.81 - ETA: 4s - loss: 0.5246 - accuracy: 0.81 - ETA: 4s - loss: 0.5231 - accuracy: 0.81 - ETA: 4s - loss: 0.5218 - accuracy: 0.81 - ETA: 4s - loss: 0.5200 - accuracy: 0.81 - ETA: 4s - loss: 0.5192 - accuracy: 0.81 - ETA: 4s - loss: 0.5174 - accuracy: 0.81 - ETA: 4s - loss: 0.5164 - accuracy: 0.81 - ETA: 4s - loss: 0.5156 - accuracy: 0.81 - ETA: 3s - loss: 0.5154 - accuracy: 0.81 - ETA: 4s - loss: 0.5152 - accuracy: 0.81 - ETA: 3s - loss: 0.5142 - accuracy: 0.81 - ETA: 3s - loss: 0.5137 - accuracy: 0.81 - ETA: 3s - loss: 0.5131 - accuracy: 0.82 - ETA: 3s - loss: 0.5120 - accuracy: 0.82 - ETA: 3s - loss: 0.5107 - accuracy: 0.82 - ETA: 3s - loss: 0.5108 - accuracy: 0.82 - ETA: 3s - loss: 0.5103 - accuracy: 0.82 - ETA: 3s - loss: 0.5103 - accuracy: 0.82 - ETA: 3s - loss: 0.5097 - accuracy: 0.82 - ETA: 3s - loss: 0.5097 - accuracy: 0.82 - ETA: 3s - loss: 0.5092 - accuracy: 0.82 - ETA: 3s - loss: 0.5088 - accuracy: 0.82 - ETA: 2s - loss: 0.5070 - accuracy: 0.82 - ETA: 2s - loss: 0.5056 - accuracy: 0.82 - ETA: 2s - loss: 0.5042 - accuracy: 0.82 - ETA: 2s - loss: 0.5035 - accuracy: 0.82 - ETA: 2s - loss: 0.5030 - accuracy: 0.82 - ETA: 2s - loss: 0.5023 - accuracy: 0.82 - ETA: 2s - loss: 0.5020 - accuracy: 0.82 - ETA: 2s - loss: 0.5020 - accuracy: 0.82 - ETA: 2s - loss: 0.5018 - accuracy: 0.82 - ETA: 2s - loss: 0.5017 - accuracy: 0.82 - ETA: 2s - loss: 0.5016 - accuracy: 0.82 - ETA: 2s - loss: 0.5014 - accuracy: 0.82 - ETA: 2s - loss: 0.5012 - accuracy: 0.82 - ETA: 2s - loss: 0.5011 - accuracy: 0.82 - ETA: 2s - loss: 0.5012 - accuracy: 0.82 - ETA: 2s - loss: 0.5012 - accuracy: 0.82 - ETA: 2s - loss: 0.5012 - accuracy: 0.82 - ETA: 2s - loss: 0.5012 - accuracy: 0.82 - ETA: 2s - loss: 0.5012 - accuracy: 0.82 - ETA: 2s - loss: 0.5012 - accuracy: 0.82 - ETA: 2s - loss: 0.5009 - accuracy: 0.82 - ETA: 2s - loss: 0.5009 - accuracy: 0.82 - ETA: 2s - loss: 0.5006 - accuracy: 0.82 - ETA: 2s - loss: 0.5004 - accuracy: 0.82 - ETA: 2s - loss: 0.4998 - accuracy: 0.82 - ETA: 2s - loss: 0.4998 - accuracy: 0.82 - ETA: 2s - loss: 0.4997 - accuracy: 0.82 - ETA: 2s - loss: 0.4996 - accuracy: 0.82 - ETA: 2s - loss: 0.4997 - accuracy: 0.82 - ETA: 2s - loss: 0.5000 - accuracy: 0.82 - ETA: 2s - loss: 0.4999 - accuracy: 0.82 - ETA: 2s - loss: 0.5002 - accuracy: 0.8243\b\b\b\b\b\b\b\b\b\b\b\b\b\b\b\b\b\b\b\b\b\b\b\b\b\b\b\b\b\b\b\b\b\b\b\b\b\b\b\b\b\b\b\b\b\b\b\b\b\b\b\b\b\b\b\b\b\b\b\b\b\b\b\b\b\b\b\b\b\b\b\b\b\b\b\b\b\b\b\b\b\b\b\b\b\b"
     ]
    },
    {
     "name": "stdout",
     "output_type": "stream",
     "text": [
      "1875/1875 [==============================] - ETA: 2s - loss: 0.4999 - accuracy: 0.82 - ETA: 2s - loss: 0.4996 - accuracy: 0.82 - ETA: 2s - loss: 0.4992 - accuracy: 0.82 - ETA: 2s - loss: 0.4992 - accuracy: 0.82 - ETA: 2s - loss: 0.4978 - accuracy: 0.82 - ETA: 1s - loss: 0.4966 - accuracy: 0.82 - ETA: 1s - loss: 0.4962 - accuracy: 0.82 - ETA: 1s - loss: 0.4948 - accuracy: 0.82 - ETA: 1s - loss: 0.4939 - accuracy: 0.82 - ETA: 1s - loss: 0.4935 - accuracy: 0.82 - ETA: 1s - loss: 0.4919 - accuracy: 0.82 - ETA: 1s - loss: 0.4908 - accuracy: 0.82 - ETA: 1s - loss: 0.4905 - accuracy: 0.82 - ETA: 1s - loss: 0.4901 - accuracy: 0.82 - ETA: 1s - loss: 0.4894 - accuracy: 0.82 - ETA: 1s - loss: 0.4892 - accuracy: 0.82 - ETA: 0s - loss: 0.4890 - accuracy: 0.82 - ETA: 0s - loss: 0.4888 - accuracy: 0.82 - ETA: 0s - loss: 0.4888 - accuracy: 0.82 - ETA: 0s - loss: 0.4886 - accuracy: 0.82 - ETA: 0s - loss: 0.4883 - accuracy: 0.82 - ETA: 0s - loss: 0.4869 - accuracy: 0.82 - ETA: 0s - loss: 0.4865 - accuracy: 0.82 - ETA: 0s - loss: 0.4864 - accuracy: 0.82 - ETA: 0s - loss: 0.4863 - accuracy: 0.82 - ETA: 0s - loss: 0.4863 - accuracy: 0.82 - ETA: 0s - loss: 0.4848 - accuracy: 0.82 - ETA: 0s - loss: 0.4840 - accuracy: 0.82 - 14s 8ms/step - loss: 0.4829 - accuracy: 0.8295 - val_loss: 0.4111 - val_accuracy: 0.8508\n",
      "Epoch 2/10\n"
     ]
    },
    {
     "name": "stdout",
     "output_type": "stream",
     "text": [
      "1875/1875 [==============================] - ETA: 0s - loss: 0.2317 - accuracy: 0.90 - ETA: 9s - loss: 0.3900 - accuracy: 0.85 - ETA: 7s - loss: 0.3947 - accuracy: 0.86 - ETA: 7s - loss: 0.3878 - accuracy: 0.85 - ETA: 9s - loss: 0.3805 - accuracy: 0.86 - ETA: 13s - loss: 0.3813 - accuracy: 0.862 - ETA: 15s - loss: 0.3792 - accuracy: 0.863 - ETA: 16s - loss: 0.3809 - accuracy: 0.861 - ETA: 18s - loss: 0.3752 - accuracy: 0.862 - ETA: 19s - loss: 0.3760 - accuracy: 0.863 - ETA: 21s - loss: 0.3794 - accuracy: 0.863 - ETA: 22s - loss: 0.3747 - accuracy: 0.864 - ETA: 23s - loss: 0.3726 - accuracy: 0.864 - ETA: 24s - loss: 0.3715 - accuracy: 0.865 - ETA: 25s - loss: 0.3707 - accuracy: 0.864 - ETA: 25s - loss: 0.3660 - accuracy: 0.867 - ETA: 24s - loss: 0.3703 - accuracy: 0.866 - ETA: 24s - loss: 0.3713 - accuracy: 0.865 - ETA: 24s - loss: 0.3741 - accuracy: 0.865 - ETA: 25s - loss: 0.3722 - accuracy: 0.866 - ETA: 27s - loss: 0.3720 - accuracy: 0.865 - ETA: 29s - loss: 0.3767 - accuracy: 0.865 - ETA: 29s - loss: 0.3738 - accuracy: 0.865 - ETA: 29s - loss: 0.3755 - accuracy: 0.865 - ETA: 30s - loss: 0.3752 - accuracy: 0.865 - ETA: 30s - loss: 0.3764 - accuracy: 0.865 - ETA: 30s - loss: 0.3766 - accuracy: 0.865 - ETA: 31s - loss: 0.3775 - accuracy: 0.864 - ETA: 31s - loss: 0.3800 - accuracy: 0.863 - ETA: 32s - loss: 0.3827 - accuracy: 0.863 - ETA: 32s - loss: 0.3841 - accuracy: 0.861 - ETA: 32s - loss: 0.3829 - accuracy: 0.862 - ETA: 31s - loss: 0.3821 - accuracy: 0.862 - ETA: 29s - loss: 0.3918 - accuracy: 0.858 - ETA: 29s - loss: 0.3937 - accuracy: 0.857 - ETA: 29s - loss: 0.3906 - accuracy: 0.858 - ETA: 29s - loss: 0.3897 - accuracy: 0.860 - ETA: 29s - loss: 0.3903 - accuracy: 0.860 - ETA: 29s - loss: 0.3921 - accuracy: 0.858 - ETA: 29s - loss: 0.3926 - accuracy: 0.858 - ETA: 29s - loss: 0.3946 - accuracy: 0.857 - ETA: 29s - loss: 0.3939 - accuracy: 0.858 - ETA: 24s - loss: 0.3946 - accuracy: 0.856 - ETA: 21s - loss: 0.3911 - accuracy: 0.858 - ETA: 20s - loss: 0.3873 - accuracy: 0.860 - ETA: 21s - loss: 0.3861 - accuracy: 0.860 - ETA: 20s - loss: 0.3853 - accuracy: 0.860 - ETA: 20s - loss: 0.3863 - accuracy: 0.859 - ETA: 19s - loss: 0.3871 - accuracy: 0.859 - ETA: 20s - loss: 0.3866 - accuracy: 0.859 - ETA: 20s - loss: 0.3860 - accuracy: 0.859 - ETA: 20s - loss: 0.3854 - accuracy: 0.859 - ETA: 20s - loss: 0.3852 - accuracy: 0.859 - ETA: 20s - loss: 0.3850 - accuracy: 0.860 - ETA: 20s - loss: 0.3840 - accuracy: 0.860 - ETA: 19s - loss: 0.3821 - accuracy: 0.860 - ETA: 19s - loss: 0.3815 - accuracy: 0.860 - ETA: 19s - loss: 0.3815 - accuracy: 0.860 - ETA: 19s - loss: 0.3786 - accuracy: 0.861 - ETA: 19s - loss: 0.3787 - accuracy: 0.861 - ETA: 18s - loss: 0.3787 - accuracy: 0.861 - ETA: 18s - loss: 0.3781 - accuracy: 0.862 - ETA: 17s - loss: 0.3786 - accuracy: 0.862 - ETA: 17s - loss: 0.3776 - accuracy: 0.862 - ETA: 17s - loss: 0.3772 - accuracy: 0.863 - ETA: 17s - loss: 0.3766 - accuracy: 0.863 - ETA: 17s - loss: 0.3757 - accuracy: 0.863 - ETA: 17s - loss: 0.3744 - accuracy: 0.864 - ETA: 17s - loss: 0.3741 - accuracy: 0.864 - ETA: 17s - loss: 0.3730 - accuracy: 0.864 - ETA: 17s - loss: 0.3724 - accuracy: 0.865 - ETA: 17s - loss: 0.3734 - accuracy: 0.865 - ETA: 17s - loss: 0.3724 - accuracy: 0.865 - ETA: 17s - loss: 0.3726 - accuracy: 0.865 - ETA: 17s - loss: 0.3723 - accuracy: 0.865 - ETA: 17s - loss: 0.3723 - accuracy: 0.865 - ETA: 17s - loss: 0.3721 - accuracy: 0.865 - ETA: 17s - loss: 0.3725 - accuracy: 0.865 - ETA: 16s - loss: 0.3709 - accuracy: 0.865 - ETA: 16s - loss: 0.3725 - accuracy: 0.864 - ETA: 15s - loss: 0.3733 - accuracy: 0.864 - ETA: 16s - loss: 0.3723 - accuracy: 0.864 - ETA: 16s - loss: 0.3726 - accuracy: 0.864 - ETA: 16s - loss: 0.3730 - accuracy: 0.864 - ETA: 16s - loss: 0.3733 - accuracy: 0.864 - ETA: 16s - loss: 0.3734 - accuracy: 0.864 - ETA: 16s - loss: 0.3732 - accuracy: 0.864 - ETA: 16s - loss: 0.3736 - accuracy: 0.864 - ETA: 16s - loss: 0.3735 - accuracy: 0.864 - ETA: 16s - loss: 0.3742 - accuracy: 0.864 - ETA: 17s - loss: 0.3749 - accuracy: 0.864 - ETA: 16s - loss: 0.3738 - accuracy: 0.864 - ETA: 16s - loss: 0.3738 - accuracy: 0.864 - ETA: 16s - loss: 0.3743 - accuracy: 0.864 - ETA: 16s - loss: 0.3743 - accuracy: 0.864 - ETA: 16s - loss: 0.3740 - accuracy: 0.864 - ETA: 16s - loss: 0.3743 - accuracy: 0.864 - ETA: 16s - loss: 0.3742 - accuracy: 0.863 - ETA: 16s - loss: 0.3745 - accuracy: 0.863 - ETA: 16s - loss: 0.3742 - accuracy: 0.863 - ETA: 16s - loss: 0.3745 - accuracy: 0.863 - ETA: 16s - loss: 0.3741 - accuracy: 0.863 - ETA: 16s - loss: 0.3741 - accuracy: 0.863 - ETA: 16s - loss: 0.3740 - accuracy: 0.863 - ETA: 16s - loss: 0.3741 - accuracy: 0.863 - ETA: 16s - loss: 0.3730 - accuracy: 0.864 - ETA: 16s - loss: 0.3730 - accuracy: 0.864 - ETA: 16s - loss: 0.3731 - accuracy: 0.864 - ETA: 16s - loss: 0.3731 - accuracy: 0.864 - ETA: 16s - loss: 0.3732 - accuracy: 0.864 - ETA: 16s - loss: 0.3730 - accuracy: 0.864 - ETA: 16s - loss: 0.3731 - accuracy: 0.864 - ETA: 16s - loss: 0.3729 - accuracy: 0.864 - ETA: 16s - loss: 0.3735 - accuracy: 0.864 - ETA: 16s - loss: 0.3736 - accuracy: 0.864 - ETA: 16s - loss: 0.3737 - accuracy: 0.864 - ETA: 15s - loss: 0.3752 - accuracy: 0.863 - ETA: 15s - loss: 0.3750 - accuracy: 0.863 - ETA: 14s - loss: 0.3735 - accuracy: 0.863 - ETA: 14s - loss: 0.3745 - accuracy: 0.863 - ETA: 14s - loss: 0.3741 - accuracy: 0.863 - ETA: 14s - loss: 0.3736 - accuracy: 0.863 - ETA: 14s - loss: 0.3735 - accuracy: 0.863 - ETA: 14s - loss: 0.3742 - accuracy: 0.863 - ETA: 14s - loss: 0.3743 - accuracy: 0.863 - ETA: 14s - loss: 0.3741 - accuracy: 0.863 - ETA: 14s - loss: 0.3739 - accuracy: 0.863 - ETA: 14s - loss: 0.3738 - accuracy: 0.863 - ETA: 14s - loss: 0.3738 - accuracy: 0.863 - ETA: 14s - loss: 0.3735 - accuracy: 0.863 - ETA: 14s - loss: 0.3733 - accuracy: 0.863 - ETA: 14s - loss: 0.3731 - accuracy: 0.863 - ETA: 13s - loss: 0.3754 - accuracy: 0.862 - ETA: 13s - loss: 0.3758 - accuracy: 0.862 - ETA: 13s - loss: 0.3757 - accuracy: 0.861 - ETA: 12s - loss: 0.3745 - accuracy: 0.862 - ETA: 11s - loss: 0.3738 - accuracy: 0.862 - ETA: 10s - loss: 0.3739 - accuracy: 0.862 - ETA: 10s - loss: 0.3730 - accuracy: 0.862 - ETA: 9s - loss: 0.3732 - accuracy: 0.861 - ETA: 9s - loss: 0.3731 - accuracy: 0.86 - ETA: 8s - loss: 0.3729 - accuracy: 0.86 - ETA: 8s - loss: 0.3728 - accuracy: 0.86 - ETA: 8s - loss: 0.3730 - accuracy: 0.86 - ETA: 7s - loss: 0.3744 - accuracy: 0.86 - ETA: 7s - loss: 0.3732 - accuracy: 0.86 - ETA: 6s - loss: 0.3735 - accuracy: 0.86 - ETA: 6s - loss: 0.3735 - accuracy: 0.86 - ETA: 6s - loss: 0.3735 - accuracy: 0.86 - ETA: 5s - loss: 0.3730 - accuracy: 0.86 - ETA: 5s - loss: 0.3722 - accuracy: 0.86 - ETA: 4s - loss: 0.3715 - accuracy: 0.86 - ETA: 4s - loss: 0.3707 - accuracy: 0.86 - ETA: 3s - loss: 0.3706 - accuracy: 0.86 - ETA: 3s - loss: 0.3705 - accuracy: 0.86 - ETA: 3s - loss: 0.3702 - accuracy: 0.86 - ETA: 3s - loss: 0.3699 - accuracy: 0.86 - ETA: 3s - loss: 0.3693 - accuracy: 0.86 - ETA: 3s - loss: 0.3692 - accuracy: 0.86 - ETA: 2s - loss: 0.3684 - accuracy: 0.86 - ETA: 2s - loss: 0.3684 - accuracy: 0.86 - ETA: 2s - loss: 0.3684 - accuracy: 0.86 - ETA: 2s - loss: 0.3679 - accuracy: 0.86 - ETA: 2s - loss: 0.3680 - accuracy: 0.86 - ETA: 1s - loss: 0.3682 - accuracy: 0.86 - ETA: 1s - loss: 0.3676 - accuracy: 0.86 - ETA: 1s - loss: 0.3670 - accuracy: 0.86 - ETA: 1s - loss: 0.3677 - accuracy: 0.86 - ETA: 1s - loss: 0.3672 - accuracy: 0.86 - ETA: 1s - loss: 0.3672 - accuracy: 0.86 - ETA: 1s - loss: 0.3673 - accuracy: 0.86 - ETA: 1s - loss: 0.3672 - accuracy: 0.86 - ETA: 1s - loss: 0.3672 - accuracy: 0.86 - ETA: 1s - loss: 0.3672 - accuracy: 0.86 - ETA: 0s - loss: 0.3670 - accuracy: 0.86 - ETA: 0s - loss: 0.3668 - accuracy: 0.86 - ETA: 0s - loss: 0.3668 - accuracy: 0.86 - ETA: 0s - loss: 0.3671 - accuracy: 0.86 - ETA: 0s - loss: 0.3663 - accuracy: 0.86 - ETA: 0s - loss: 0.3663 - accuracy: 0.86 - ETA: 0s - loss: 0.3661 - accuracy: 0.86 - ETA: 0s - loss: 0.3663 - accuracy: 0.86 - ETA: 0s - loss: 0.3658 - accuracy: 0.86 - ETA: 0s - loss: 0.3654 - accuracy: 0.86 - ETA: 0s - loss: 0.3653 - accuracy: 0.86 - 12s 6ms/step - loss: 0.3654 - accuracy: 0.8654 - val_loss: 0.3992 - val_accuracy: 0.8543\n",
      "Epoch 3/10\n"
     ]
    },
    {
     "name": "stdout",
     "output_type": "stream",
     "text": [
      "1875/1875 [==============================] - ETA: 0s - loss: 0.4898 - accuracy: 0.84 - ETA: 5s - loss: 0.3801 - accuracy: 0.85 - ETA: 4s - loss: 0.3426 - accuracy: 0.87 - ETA: 6s - loss: 0.3509 - accuracy: 0.86 - ETA: 6s - loss: 0.3606 - accuracy: 0.86 - ETA: 5s - loss: 0.3510 - accuracy: 0.86 - ETA: 5s - loss: 0.3522 - accuracy: 0.86 - ETA: 4s - loss: 0.3434 - accuracy: 0.87 - ETA: 4s - loss: 0.3335 - accuracy: 0.87 - ETA: 5s - loss: 0.3377 - accuracy: 0.87 - ETA: 5s - loss: 0.3360 - accuracy: 0.87 - ETA: 5s - loss: 0.3270 - accuracy: 0.87 - ETA: 4s - loss: 0.3298 - accuracy: 0.88 - ETA: 4s - loss: 0.3404 - accuracy: 0.87 - ETA: 4s - loss: 0.3432 - accuracy: 0.87 - ETA: 4s - loss: 0.3416 - accuracy: 0.87 - ETA: 3s - loss: 0.3398 - accuracy: 0.87 - ETA: 3s - loss: 0.3379 - accuracy: 0.87 - ETA: 4s - loss: 0.3383 - accuracy: 0.87 - ETA: 4s - loss: 0.3360 - accuracy: 0.87 - ETA: 4s - loss: 0.3357 - accuracy: 0.87 - ETA: 4s - loss: 0.3358 - accuracy: 0.87 - ETA: 4s - loss: 0.3349 - accuracy: 0.87 - ETA: 3s - loss: 0.3354 - accuracy: 0.87 - ETA: 3s - loss: 0.3343 - accuracy: 0.87 - ETA: 3s - loss: 0.3325 - accuracy: 0.87 - ETA: 3s - loss: 0.3315 - accuracy: 0.87 - ETA: 3s - loss: 0.3321 - accuracy: 0.87 - ETA: 3s - loss: 0.3334 - accuracy: 0.87 - ETA: 4s - loss: 0.3338 - accuracy: 0.87 - ETA: 4s - loss: 0.3342 - accuracy: 0.87 - ETA: 4s - loss: 0.3344 - accuracy: 0.87 - ETA: 3s - loss: 0.3359 - accuracy: 0.87 - ETA: 3s - loss: 0.3358 - accuracy: 0.87 - ETA: 3s - loss: 0.3364 - accuracy: 0.87 - ETA: 3s - loss: 0.3367 - accuracy: 0.87 - ETA: 3s - loss: 0.3366 - accuracy: 0.87 - ETA: 3s - loss: 0.3364 - accuracy: 0.87 - ETA: 3s - loss: 0.3362 - accuracy: 0.87 - ETA: 3s - loss: 0.3372 - accuracy: 0.87 - ETA: 3s - loss: 0.3374 - accuracy: 0.87 - ETA: 3s - loss: 0.3369 - accuracy: 0.87 - ETA: 3s - loss: 0.3370 - accuracy: 0.87 - ETA: 3s - loss: 0.3372 - accuracy: 0.87 - ETA: 3s - loss: 0.3372 - accuracy: 0.87 - ETA: 4s - loss: 0.3374 - accuracy: 0.87 - ETA: 4s - loss: 0.3372 - accuracy: 0.87 - ETA: 4s - loss: 0.3371 - accuracy: 0.87 - ETA: 4s - loss: 0.3361 - accuracy: 0.87 - ETA: 4s - loss: 0.3367 - accuracy: 0.87 - ETA: 4s - loss: 0.3365 - accuracy: 0.87 - ETA: 4s - loss: 0.3375 - accuracy: 0.87 - ETA: 4s - loss: 0.3381 - accuracy: 0.87 - ETA: 4s - loss: 0.3379 - accuracy: 0.87 - ETA: 4s - loss: 0.3376 - accuracy: 0.87 - ETA: 4s - loss: 0.3375 - accuracy: 0.87 - ETA: 4s - loss: 0.3377 - accuracy: 0.87 - ETA: 4s - loss: 0.3376 - accuracy: 0.87 - ETA: 4s - loss: 0.3367 - accuracy: 0.87 - ETA: 4s - loss: 0.3368 - accuracy: 0.87 - ETA: 4s - loss: 0.3373 - accuracy: 0.87 - ETA: 3s - loss: 0.3379 - accuracy: 0.87 - ETA: 3s - loss: 0.3369 - accuracy: 0.87 - ETA: 3s - loss: 0.3378 - accuracy: 0.87 - ETA: 3s - loss: 0.3378 - accuracy: 0.87 - ETA: 3s - loss: 0.3379 - accuracy: 0.87 - ETA: 3s - loss: 0.3376 - accuracy: 0.87 - ETA: 3s - loss: 0.3379 - accuracy: 0.87 - ETA: 3s - loss: 0.3380 - accuracy: 0.87 - ETA: 3s - loss: 0.3380 - accuracy: 0.87 - ETA: 3s - loss: 0.3377 - accuracy: 0.87 - ETA: 4s - loss: 0.3378 - accuracy: 0.87 - ETA: 4s - loss: 0.3377 - accuracy: 0.87 - ETA: 4s - loss: 0.3380 - accuracy: 0.87 - ETA: 4s - loss: 0.3381 - accuracy: 0.87 - ETA: 4s - loss: 0.3380 - accuracy: 0.87 - ETA: 4s - loss: 0.3386 - accuracy: 0.87 - ETA: 4s - loss: 0.3387 - accuracy: 0.87 - ETA: 4s - loss: 0.3391 - accuracy: 0.87 - ETA: 4s - loss: 0.3393 - accuracy: 0.87 - ETA: 4s - loss: 0.3396 - accuracy: 0.87 - ETA: 4s - loss: 0.3392 - accuracy: 0.87 - ETA: 4s - loss: 0.3391 - accuracy: 0.87 - ETA: 4s - loss: 0.3391 - accuracy: 0.87 - ETA: 4s - loss: 0.3390 - accuracy: 0.87 - ETA: 4s - loss: 0.3393 - accuracy: 0.87 - ETA: 4s - loss: 0.3396 - accuracy: 0.87 - ETA: 4s - loss: 0.3396 - accuracy: 0.87 - ETA: 4s - loss: 0.3390 - accuracy: 0.87 - ETA: 4s - loss: 0.3385 - accuracy: 0.87 - ETA: 4s - loss: 0.3387 - accuracy: 0.87 - ETA: 4s - loss: 0.3384 - accuracy: 0.87 - ETA: 4s - loss: 0.3383 - accuracy: 0.87 - ETA: 4s - loss: 0.3381 - accuracy: 0.87 - ETA: 4s - loss: 0.3380 - accuracy: 0.87 - ETA: 4s - loss: 0.3379 - accuracy: 0.87 - ETA: 4s - loss: 0.3379 - accuracy: 0.87 - ETA: 4s - loss: 0.3378 - accuracy: 0.87 - ETA: 4s - loss: 0.3378 - accuracy: 0.87 - ETA: 4s - loss: 0.3377 - accuracy: 0.87 - ETA: 4s - loss: 0.3373 - accuracy: 0.87 - ETA: 4s - loss: 0.3372 - accuracy: 0.87 - ETA: 4s - loss: 0.3372 - accuracy: 0.87 - ETA: 4s - loss: 0.3369 - accuracy: 0.87 - ETA: 4s - loss: 0.3364 - accuracy: 0.87 - ETA: 4s - loss: 0.3362 - accuracy: 0.87 - ETA: 4s - loss: 0.3359 - accuracy: 0.87 - ETA: 4s - loss: 0.3358 - accuracy: 0.87 - ETA: 4s - loss: 0.3361 - accuracy: 0.87 - ETA: 4s - loss: 0.3358 - accuracy: 0.87 - ETA: 4s - loss: 0.3358 - accuracy: 0.87 - ETA: 4s - loss: 0.3356 - accuracy: 0.87 - ETA: 4s - loss: 0.3357 - accuracy: 0.87 - ETA: 4s - loss: 0.3356 - accuracy: 0.87 - ETA: 4s - loss: 0.3358 - accuracy: 0.87 - ETA: 3s - loss: 0.3361 - accuracy: 0.87 - ETA: 3s - loss: 0.3360 - accuracy: 0.87 - ETA: 3s - loss: 0.3358 - accuracy: 0.87 - ETA: 3s - loss: 0.3357 - accuracy: 0.87 - ETA: 3s - loss: 0.3354 - accuracy: 0.87 - ETA: 3s - loss: 0.3354 - accuracy: 0.87 - ETA: 3s - loss: 0.3355 - accuracy: 0.87 - ETA: 3s - loss: 0.3354 - accuracy: 0.87 - ETA: 3s - loss: 0.3357 - accuracy: 0.87 - ETA: 3s - loss: 0.3347 - accuracy: 0.87 - ETA: 3s - loss: 0.3347 - accuracy: 0.87 - ETA: 3s - loss: 0.3341 - accuracy: 0.87 - ETA: 3s - loss: 0.3349 - accuracy: 0.87 - ETA: 2s - loss: 0.3341 - accuracy: 0.87 - ETA: 2s - loss: 0.3344 - accuracy: 0.87 - ETA: 2s - loss: 0.3338 - accuracy: 0.87 - ETA: 2s - loss: 0.3337 - accuracy: 0.87 - ETA: 2s - loss: 0.3329 - accuracy: 0.87 - ETA: 2s - loss: 0.3331 - accuracy: 0.87 - ETA: 2s - loss: 0.3332 - accuracy: 0.87 - ETA: 2s - loss: 0.3330 - accuracy: 0.87 - ETA: 1s - loss: 0.3329 - accuracy: 0.87 - ETA: 1s - loss: 0.3329 - accuracy: 0.87 - ETA: 1s - loss: 0.3331 - accuracy: 0.87 - ETA: 1s - loss: 0.3327 - accuracy: 0.87 - ETA: 1s - loss: 0.3328 - accuracy: 0.87 - ETA: 1s - loss: 0.3327 - accuracy: 0.87 - ETA: 1s - loss: 0.3322 - accuracy: 0.87 - ETA: 1s - loss: 0.3317 - accuracy: 0.87 - ETA: 1s - loss: 0.3322 - accuracy: 0.87 - ETA: 1s - loss: 0.3323 - accuracy: 0.87 - ETA: 1s - loss: 0.3317 - accuracy: 0.87 - ETA: 1s - loss: 0.3317 - accuracy: 0.87 - ETA: 1s - loss: 0.3315 - accuracy: 0.87 - ETA: 0s - loss: 0.3316 - accuracy: 0.87 - ETA: 0s - loss: 0.3312 - accuracy: 0.87 - ETA: 0s - loss: 0.3320 - accuracy: 0.87 - ETA: 0s - loss: 0.3319 - accuracy: 0.87 - ETA: 0s - loss: 0.3316 - accuracy: 0.87 - ETA: 0s - loss: 0.3314 - accuracy: 0.87 - ETA: 0s - loss: 0.3311 - accuracy: 0.87 - ETA: 0s - loss: 0.3309 - accuracy: 0.87 - ETA: 0s - loss: 0.3302 - accuracy: 0.87 - ETA: 0s - loss: 0.3301 - accuracy: 0.87 - ETA: 0s - loss: 0.3300 - accuracy: 0.87 - ETA: 0s - loss: 0.3301 - accuracy: 0.87 - 12s 7ms/step - loss: 0.3298 - accuracy: 0.8789 - val_loss: 0.3764 - val_accuracy: 0.8640\n",
      "Epoch 4/10\n"
     ]
    },
    {
     "name": "stdout",
     "output_type": "stream",
     "text": [
      "1256/1875 [===================>..........] - ETA: 0s - loss: 0.3614 - accuracy: 0.81 - ETA: 13s - loss: 0.3549 - accuracy: 0.857 - ETA: 11s - loss: 0.3322 - accuracy: 0.875 - ETA: 13s - loss: 0.3213 - accuracy: 0.879 - ETA: 10s - loss: 0.3309 - accuracy: 0.877 - ETA: 8s - loss: 0.3223 - accuracy: 0.881 - ETA: 9s - loss: 0.3183 - accuracy: 0.88 - ETA: 9s - loss: 0.3143 - accuracy: 0.88 - ETA: 9s - loss: 0.3181 - accuracy: 0.88 - ETA: 8s - loss: 0.3099 - accuracy: 0.88 - ETA: 7s - loss: 0.3135 - accuracy: 0.87 - ETA: 7s - loss: 0.3146 - accuracy: 0.87 - ETA: 6s - loss: 0.3114 - accuracy: 0.88 - ETA: 6s - loss: 0.3112 - accuracy: 0.88 - ETA: 6s - loss: 0.3108 - accuracy: 0.88 - ETA: 7s - loss: 0.3113 - accuracy: 0.88 - ETA: 7s - loss: 0.3101 - accuracy: 0.88 - ETA: 7s - loss: 0.3099 - accuracy: 0.88 - ETA: 7s - loss: 0.3112 - accuracy: 0.88 - ETA: 7s - loss: 0.3098 - accuracy: 0.88 - ETA: 7s - loss: 0.3080 - accuracy: 0.88 - ETA: 7s - loss: 0.3074 - accuracy: 0.88 - ETA: 7s - loss: 0.3074 - accuracy: 0.88 - ETA: 7s - loss: 0.3054 - accuracy: 0.88 - ETA: 7s - loss: 0.3055 - accuracy: 0.88 - ETA: 7s - loss: 0.3057 - accuracy: 0.88 - ETA: 7s - loss: 0.3068 - accuracy: 0.88 - ETA: 7s - loss: 0.3054 - accuracy: 0.88 - ETA: 7s - loss: 0.3055 - accuracy: 0.88 - ETA: 8s - loss: 0.3056 - accuracy: 0.88 - ETA: 8s - loss: 0.3058 - accuracy: 0.88 - ETA: 8s - loss: 0.3062 - accuracy: 0.88 - ETA: 8s - loss: 0.3072 - accuracy: 0.88 - ETA: 9s - loss: 0.3075 - accuracy: 0.88 - ETA: 9s - loss: 0.3080 - accuracy: 0.88 - ETA: 9s - loss: 0.3088 - accuracy: 0.88 - ETA: 9s - loss: 0.3103 - accuracy: 0.88 - ETA: 9s - loss: 0.3102 - accuracy: 0.88 - ETA: 9s - loss: 0.3098 - accuracy: 0.88 - ETA: 9s - loss: 0.3108 - accuracy: 0.88 - ETA: 9s - loss: 0.3099 - accuracy: 0.88 - ETA: 9s - loss: 0.3102 - accuracy: 0.88 - ETA: 10s - loss: 0.3104 - accuracy: 0.883 - ETA: 10s - loss: 0.3106 - accuracy: 0.883 - ETA: 10s - loss: 0.3113 - accuracy: 0.883 - ETA: 10s - loss: 0.3108 - accuracy: 0.883 - ETA: 10s - loss: 0.3117 - accuracy: 0.883 - ETA: 10s - loss: 0.3119 - accuracy: 0.882 - ETA: 10s - loss: 0.3114 - accuracy: 0.883 - ETA: 11s - loss: 0.3110 - accuracy: 0.883 - ETA: 11s - loss: 0.3118 - accuracy: 0.882 - ETA: 11s - loss: 0.3119 - accuracy: 0.882 - ETA: 11s - loss: 0.3129 - accuracy: 0.882 - ETA: 11s - loss: 0.3130 - accuracy: 0.882 - ETA: 11s - loss: 0.3129 - accuracy: 0.882 - ETA: 11s - loss: 0.3124 - accuracy: 0.882 - ETA: 11s - loss: 0.3124 - accuracy: 0.882 - ETA: 12s - loss: 0.3128 - accuracy: 0.882 - ETA: 12s - loss: 0.3135 - accuracy: 0.881 - ETA: 12s - loss: 0.3134 - accuracy: 0.882 - ETA: 12s - loss: 0.3146 - accuracy: 0.881 - ETA: 12s - loss: 0.3144 - accuracy: 0.882 - ETA: 12s - loss: 0.3141 - accuracy: 0.882 - ETA: 12s - loss: 0.3138 - accuracy: 0.882 - ETA: 12s - loss: 0.3141 - accuracy: 0.882 - ETA: 12s - loss: 0.3140 - accuracy: 0.882 - ETA: 13s - loss: 0.3143 - accuracy: 0.882 - ETA: 13s - loss: 0.3144 - accuracy: 0.882 - ETA: 13s - loss: 0.3152 - accuracy: 0.881 - ETA: 13s - loss: 0.3147 - accuracy: 0.882 - ETA: 13s - loss: 0.3147 - accuracy: 0.881 - ETA: 13s - loss: 0.3148 - accuracy: 0.881 - ETA: 13s - loss: 0.3150 - accuracy: 0.881 - ETA: 13s - loss: 0.3149 - accuracy: 0.882 - ETA: 13s - loss: 0.3145 - accuracy: 0.882 - ETA: 13s - loss: 0.3150 - accuracy: 0.881 - ETA: 13s - loss: 0.3149 - accuracy: 0.882 - ETA: 13s - loss: 0.3150 - accuracy: 0.881 - ETA: 14s - loss: 0.3146 - accuracy: 0.881 - ETA: 14s - loss: 0.3149 - accuracy: 0.881 - ETA: 14s - loss: 0.3147 - accuracy: 0.881 - ETA: 14s - loss: 0.3144 - accuracy: 0.882 - ETA: 14s - loss: 0.3147 - accuracy: 0.882 - ETA: 14s - loss: 0.3144 - accuracy: 0.882 - ETA: 14s - loss: 0.3141 - accuracy: 0.882 - ETA: 14s - loss: 0.3148 - accuracy: 0.882 - ETA: 14s - loss: 0.3142 - accuracy: 0.882 - ETA: 15s - loss: 0.3141 - accuracy: 0.882 - ETA: 15s - loss: 0.3141 - accuracy: 0.882 - ETA: 15s - loss: 0.3134 - accuracy: 0.882 - ETA: 15s - loss: 0.3129 - accuracy: 0.882 - ETA: 15s - loss: 0.3128 - accuracy: 0.882 - ETA: 15s - loss: 0.3124 - accuracy: 0.882 - ETA: 15s - loss: 0.3136 - accuracy: 0.882 - ETA: 15s - loss: 0.3133 - accuracy: 0.882 - ETA: 15s - loss: 0.3135 - accuracy: 0.882 - ETA: 15s - loss: 0.3127 - accuracy: 0.883 - ETA: 14s - loss: 0.3123 - accuracy: 0.882 - ETA: 14s - loss: 0.3111 - accuracy: 0.883 - ETA: 14s - loss: 0.3106 - accuracy: 0.883 - ETA: 14s - loss: 0.3105 - accuracy: 0.883 - ETA: 14s - loss: 0.3107 - accuracy: 0.883 - ETA: 14s - loss: 0.3106 - accuracy: 0.883 - ETA: 14s - loss: 0.3104 - accuracy: 0.883 - ETA: 14s - loss: 0.3097 - accuracy: 0.883 - ETA: 14s - loss: 0.3099 - accuracy: 0.883 - ETA: 14s - loss: 0.3101 - accuracy: 0.883 - ETA: 14s - loss: 0.3099 - accuracy: 0.883 - ETA: 13s - loss: 0.3097 - accuracy: 0.883 - ETA: 13s - loss: 0.3104 - accuracy: 0.883 - ETA: 13s - loss: 0.3118 - accuracy: 0.882 - ETA: 13s - loss: 0.3130 - accuracy: 0.882 - ETA: 13s - loss: 0.3130 - accuracy: 0.882 - ETA: 13s - loss: 0.3129 - accuracy: 0.882 - ETA: 12s - loss: 0.3122 - accuracy: 0.882 - ETA: 12s - loss: 0.3128 - accuracy: 0.882 - ETA: 12s - loss: 0.3140 - accuracy: 0.882 - ETA: 12s - loss: 0.3140 - accuracy: 0.882 - ETA: 12s - loss: 0.3135 - accuracy: 0.882 - ETA: 12s - loss: 0.3129 - accuracy: 0.882 - ETA: 12s - loss: 0.3129 - accuracy: 0.882 - ETA: 11s - loss: 0.3131 - accuracy: 0.882 - ETA: 12s - loss: 0.3130 - accuracy: 0.882 - ETA: 12s - loss: 0.3130 - accuracy: 0.882 - ETA: 12s - loss: 0.3128 - accuracy: 0.882 - ETA: 11s - loss: 0.3137 - accuracy: 0.882 - ETA: 11s - loss: 0.3134 - accuracy: 0.882 - ETA: 11s - loss: 0.3134 - accuracy: 0.882 - ETA: 10s - loss: 0.3136 - accuracy: 0.882 - ETA: 10s - loss: 0.3124 - accuracy: 0.882 - ETA: 10s - loss: 0.3116 - accuracy: 0.883 - ETA: 10s - loss: 0.3109 - accuracy: 0.883 - ETA: 10s - loss: 0.3109 - accuracy: 0.883 - ETA: 10s - loss: 0.3109 - accuracy: 0.883 - ETA: 9s - loss: 0.3109 - accuracy: 0.883 - ETA: 9s - loss: 0.3100 - accuracy: 0.88 - ETA: 9s - loss: 0.3099 - accuracy: 0.88 - ETA: 9s - loss: 0.3104 - accuracy: 0.88 - ETA: 9s - loss: 0.3106 - accuracy: 0.88 - ETA: 9s - loss: 0.3107 - accuracy: 0.88 - ETA: 9s - loss: 0.3100 - accuracy: 0.88 - ETA: 9s - loss: 0.3099 - accuracy: 0.88 - ETA: 9s - loss: 0.3097 - accuracy: 0.88 - ETA: 9s - loss: 0.3094 - accuracy: 0.88 - ETA: 9s - loss: 0.3090 - accuracy: 0.88 - ETA: 9s - loss: 0.3091 - accuracy: 0.88 - ETA: 9s - loss: 0.3088 - accuracy: 0.88 - ETA: 9s - loss: 0.3091 - accuracy: 0.88 - ETA: 9s - loss: 0.3091 - accuracy: 0.88 - ETA: 9s - loss: 0.3092 - accuracy: 0.88 - ETA: 9s - loss: 0.3091 - accuracy: 0.88 - ETA: 9s - loss: 0.3092 - accuracy: 0.88 - ETA: 9s - loss: 0.3094 - accuracy: 0.88 - ETA: 9s - loss: 0.3094 - accuracy: 0.88 - ETA: 9s - loss: 0.3095 - accuracy: 0.88 - ETA: 9s - loss: 0.3094 - accuracy: 0.88 - ETA: 9s - loss: 0.3094 - accuracy: 0.88 - ETA: 9s - loss: 0.3091 - accuracy: 0.88 - ETA: 9s - loss: 0.3093 - accuracy: 0.88 - ETA: 9s - loss: 0.3091 - accuracy: 0.88 - ETA: 9s - loss: 0.3090 - accuracy: 0.88 - ETA: 9s - loss: 0.3086 - accuracy: 0.88 - ETA: 9s - loss: 0.3088 - accuracy: 0.88 - ETA: 9s - loss: 0.3084 - accuracy: 0.88 - ETA: 9s - loss: 0.3085 - accuracy: 0.88 - ETA: 9s - loss: 0.3084 - accuracy: 0.88 - ETA: 9s - loss: 0.3083 - accuracy: 0.88 - ETA: 9s - loss: 0.3082 - accuracy: 0.88 - ETA: 9s - loss: 0.3082 - accuracy: 0.88 - ETA: 9s - loss: 0.3076 - accuracy: 0.88 - ETA: 9s - loss: 0.3073 - accuracy: 0.88 - ETA: 8s - loss: 0.3067 - accuracy: 0.88 - ETA: 8s - loss: 0.3065 - accuracy: 0.88 - ETA: 9s - loss: 0.3065 - accuracy: 0.88 - ETA: 9s - loss: 0.3064 - accuracy: 0.88 - ETA: 9s - loss: 0.3061 - accuracy: 0.88 - ETA: 9s - loss: 0.3061 - accuracy: 0.88 - ETA: 9s - loss: 0.3065 - accuracy: 0.88 - ETA: 9s - loss: 0.3064 - accuracy: 0.88 - ETA: 9s - loss: 0.3064 - accuracy: 0.88 - ETA: 8s - loss: 0.3066 - accuracy: 0.88 - ETA: 8s - loss: 0.3070 - accuracy: 0.88 - ETA: 8s - loss: 0.3073 - accuracy: 0.88 - ETA: 8s - loss: 0.3071 - accuracy: 0.88 - ETA: 7s - loss: 0.3067 - accuracy: 0.88 - ETA: 6s - loss: 0.3074 - accuracy: 0.88 - ETA: 6s - loss: 0.3069 - accuracy: 0.88 - ETA: 6s - loss: 0.3067 - accuracy: 0.88 - ETA: 6s - loss: 0.3069 - accuracy: 0.88 - ETA: 5s - loss: 0.3073 - accuracy: 0.8860"
     ]
    },
    {
     "name": "stdout",
     "output_type": "stream",
     "text": [
      "1875/1875 [==============================] - ETA: 5s - loss: 0.3073 - accuracy: 0.88 - ETA: 5s - loss: 0.3074 - accuracy: 0.88 - ETA: 5s - loss: 0.3075 - accuracy: 0.88 - ETA: 4s - loss: 0.3071 - accuracy: 0.88 - ETA: 4s - loss: 0.3074 - accuracy: 0.88 - ETA: 4s - loss: 0.3066 - accuracy: 0.88 - ETA: 3s - loss: 0.3061 - accuracy: 0.88 - ETA: 3s - loss: 0.3064 - accuracy: 0.88 - ETA: 3s - loss: 0.3054 - accuracy: 0.88 - ETA: 2s - loss: 0.3050 - accuracy: 0.88 - ETA: 2s - loss: 0.3050 - accuracy: 0.88 - ETA: 2s - loss: 0.3047 - accuracy: 0.88 - ETA: 2s - loss: 0.3046 - accuracy: 0.88 - ETA: 2s - loss: 0.3039 - accuracy: 0.88 - ETA: 2s - loss: 0.3034 - accuracy: 0.88 - ETA: 1s - loss: 0.3032 - accuracy: 0.88 - ETA: 1s - loss: 0.3034 - accuracy: 0.88 - ETA: 1s - loss: 0.3032 - accuracy: 0.88 - ETA: 1s - loss: 0.3031 - accuracy: 0.88 - ETA: 1s - loss: 0.3031 - accuracy: 0.88 - ETA: 1s - loss: 0.3029 - accuracy: 0.88 - ETA: 1s - loss: 0.3029 - accuracy: 0.88 - ETA: 1s - loss: 0.3033 - accuracy: 0.88 - ETA: 1s - loss: 0.3032 - accuracy: 0.88 - ETA: 0s - loss: 0.3038 - accuracy: 0.88 - ETA: 0s - loss: 0.3041 - accuracy: 0.88 - ETA: 0s - loss: 0.3042 - accuracy: 0.88 - ETA: 0s - loss: 0.3042 - accuracy: 0.88 - ETA: 0s - loss: 0.3038 - accuracy: 0.88 - ETA: 0s - loss: 0.3036 - accuracy: 0.88 - 15s 8ms/step - loss: 0.3033 - accuracy: 0.8880 - val_loss: 0.3456 - val_accuracy: 0.8743\n",
      "Epoch 5/10\n",
      "1875/1875 [==============================] - ETA: 0s - loss: 0.3413 - accuracy: 0.87 - ETA: 9s - loss: 0.2768 - accuracy: 0.88 - ETA: 5s - loss: 0.2783 - accuracy: 0.89 - ETA: 5s - loss: 0.2829 - accuracy: 0.89 - ETA: 4s - loss: 0.2952 - accuracy: 0.88 - ETA: 5s - loss: 0.2947 - accuracy: 0.88 - ETA: 5s - loss: 0.2934 - accuracy: 0.89 - ETA: 6s - loss: 0.2922 - accuracy: 0.89 - ETA: 7s - loss: 0.2948 - accuracy: 0.89 - ETA: 7s - loss: 0.2957 - accuracy: 0.89 - ETA: 8s - loss: 0.2940 - accuracy: 0.89 - ETA: 10s - loss: 0.2945 - accuracy: 0.890 - ETA: 10s - loss: 0.2935 - accuracy: 0.890 - ETA: 11s - loss: 0.2923 - accuracy: 0.891 - ETA: 12s - loss: 0.2962 - accuracy: 0.889 - ETA: 13s - loss: 0.2951 - accuracy: 0.889 - ETA: 13s - loss: 0.2939 - accuracy: 0.889 - ETA: 14s - loss: 0.2946 - accuracy: 0.889 - ETA: 13s - loss: 0.2990 - accuracy: 0.886 - ETA: 13s - loss: 0.2995 - accuracy: 0.887 - ETA: 13s - loss: 0.2983 - accuracy: 0.887 - ETA: 11s - loss: 0.3034 - accuracy: 0.885 - ETA: 10s - loss: 0.3011 - accuracy: 0.885 - ETA: 10s - loss: 0.3036 - accuracy: 0.885 - ETA: 10s - loss: 0.3046 - accuracy: 0.884 - ETA: 10s - loss: 0.3040 - accuracy: 0.885 - ETA: 10s - loss: 0.3033 - accuracy: 0.885 - ETA: 10s - loss: 0.3029 - accuracy: 0.885 - ETA: 11s - loss: 0.3029 - accuracy: 0.885 - ETA: 11s - loss: 0.3029 - accuracy: 0.885 - ETA: 11s - loss: 0.3021 - accuracy: 0.886 - ETA: 12s - loss: 0.3020 - accuracy: 0.886 - ETA: 12s - loss: 0.3029 - accuracy: 0.885 - ETA: 12s - loss: 0.3026 - accuracy: 0.885 - ETA: 12s - loss: 0.2994 - accuracy: 0.887 - ETA: 12s - loss: 0.2984 - accuracy: 0.887 - ETA: 11s - loss: 0.2983 - accuracy: 0.888 - ETA: 10s - loss: 0.2959 - accuracy: 0.889 - ETA: 10s - loss: 0.2969 - accuracy: 0.889 - ETA: 10s - loss: 0.2965 - accuracy: 0.889 - ETA: 9s - loss: 0.2951 - accuracy: 0.890 - ETA: 9s - loss: 0.2946 - accuracy: 0.89 - ETA: 9s - loss: 0.2941 - accuracy: 0.89 - ETA: 8s - loss: 0.2958 - accuracy: 0.89 - ETA: 8s - loss: 0.2966 - accuracy: 0.88 - ETA: 8s - loss: 0.2961 - accuracy: 0.89 - ETA: 8s - loss: 0.2954 - accuracy: 0.89 - ETA: 7s - loss: 0.2961 - accuracy: 0.88 - ETA: 7s - loss: 0.2940 - accuracy: 0.89 - ETA: 7s - loss: 0.2930 - accuracy: 0.89 - ETA: 7s - loss: 0.2926 - accuracy: 0.89 - ETA: 7s - loss: 0.2931 - accuracy: 0.89 - ETA: 7s - loss: 0.2925 - accuracy: 0.89 - ETA: 7s - loss: 0.2921 - accuracy: 0.89 - ETA: 7s - loss: 0.2923 - accuracy: 0.89 - ETA: 8s - loss: 0.2922 - accuracy: 0.89 - ETA: 8s - loss: 0.2925 - accuracy: 0.89 - ETA: 7s - loss: 0.2915 - accuracy: 0.89 - ETA: 7s - loss: 0.2908 - accuracy: 0.89 - ETA: 7s - loss: 0.2902 - accuracy: 0.89 - ETA: 7s - loss: 0.2900 - accuracy: 0.89 - ETA: 7s - loss: 0.2901 - accuracy: 0.89 - ETA: 7s - loss: 0.2899 - accuracy: 0.89 - ETA: 7s - loss: 0.2898 - accuracy: 0.89 - ETA: 7s - loss: 0.2898 - accuracy: 0.89 - ETA: 7s - loss: 0.2897 - accuracy: 0.89 - ETA: 7s - loss: 0.2887 - accuracy: 0.89 - ETA: 7s - loss: 0.2888 - accuracy: 0.89 - ETA: 7s - loss: 0.2884 - accuracy: 0.89 - ETA: 7s - loss: 0.2879 - accuracy: 0.89 - ETA: 7s - loss: 0.2864 - accuracy: 0.89 - ETA: 6s - loss: 0.2863 - accuracy: 0.89 - ETA: 6s - loss: 0.2864 - accuracy: 0.89 - ETA: 6s - loss: 0.2863 - accuracy: 0.89 - ETA: 6s - loss: 0.2865 - accuracy: 0.89 - ETA: 5s - loss: 0.2863 - accuracy: 0.89 - ETA: 5s - loss: 0.2858 - accuracy: 0.89 - ETA: 5s - loss: 0.2855 - accuracy: 0.89 - ETA: 5s - loss: 0.2863 - accuracy: 0.89 - ETA: 5s - loss: 0.2856 - accuracy: 0.89 - ETA: 4s - loss: 0.2845 - accuracy: 0.89 - ETA: 4s - loss: 0.2847 - accuracy: 0.89 - ETA: 4s - loss: 0.2847 - accuracy: 0.89 - ETA: 4s - loss: 0.2849 - accuracy: 0.89 - ETA: 4s - loss: 0.2848 - accuracy: 0.89 - ETA: 3s - loss: 0.2854 - accuracy: 0.89 - ETA: 3s - loss: 0.2851 - accuracy: 0.89 - ETA: 3s - loss: 0.2851 - accuracy: 0.89 - ETA: 3s - loss: 0.2856 - accuracy: 0.89 - ETA: 3s - loss: 0.2872 - accuracy: 0.89 - ETA: 3s - loss: 0.2872 - accuracy: 0.89 - ETA: 3s - loss: 0.2870 - accuracy: 0.89 - ETA: 2s - loss: 0.2873 - accuracy: 0.89 - ETA: 2s - loss: 0.2874 - accuracy: 0.89 - ETA: 2s - loss: 0.2876 - accuracy: 0.89 - ETA: 2s - loss: 0.2872 - accuracy: 0.89 - ETA: 2s - loss: 0.2873 - accuracy: 0.89 - ETA: 2s - loss: 0.2868 - accuracy: 0.89 - ETA: 2s - loss: 0.2872 - accuracy: 0.89 - ETA: 2s - loss: 0.2863 - accuracy: 0.89 - ETA: 1s - loss: 0.2873 - accuracy: 0.89 - ETA: 1s - loss: 0.2872 - accuracy: 0.89 - ETA: 1s - loss: 0.2868 - accuracy: 0.89 - ETA: 1s - loss: 0.2867 - accuracy: 0.89 - ETA: 1s - loss: 0.2862 - accuracy: 0.89 - ETA: 1s - loss: 0.2863 - accuracy: 0.89 - ETA: 1s - loss: 0.2860 - accuracy: 0.89 - ETA: 1s - loss: 0.2856 - accuracy: 0.89 - ETA: 1s - loss: 0.2855 - accuracy: 0.89 - ETA: 0s - loss: 0.2853 - accuracy: 0.89 - ETA: 0s - loss: 0.2846 - accuracy: 0.89 - ETA: 0s - loss: 0.2851 - accuracy: 0.89 - ETA: 0s - loss: 0.2855 - accuracy: 0.89 - ETA: 0s - loss: 0.2854 - accuracy: 0.89 - ETA: 0s - loss: 0.2853 - accuracy: 0.89 - ETA: 0s - loss: 0.2856 - accuracy: 0.89 - ETA: 0s - loss: 0.2857 - accuracy: 0.89 - ETA: 0s - loss: 0.2862 - accuracy: 0.89 - ETA: 0s - loss: 0.2864 - accuracy: 0.89 - ETA: 0s - loss: 0.2865 - accuracy: 0.89 - ETA: 0s - loss: 0.2864 - accuracy: 0.89 - ETA: 0s - loss: 0.2862 - accuracy: 0.89 - 8s 4ms/step - loss: 0.2862 - accuracy: 0.8938 - val_loss: 0.3415 - val_accuracy: 0.8760\n",
      "Epoch 6/10\n"
     ]
    },
    {
     "name": "stdout",
     "output_type": "stream",
     "text": [
      "1875/1875 [==============================] - ETA: 0s - loss: 0.1516 - accuracy: 0.96 - ETA: 2s - loss: 0.2747 - accuracy: 0.90 - ETA: 3s - loss: 0.2807 - accuracy: 0.89 - ETA: 3s - loss: 0.2729 - accuracy: 0.89 - ETA: 2s - loss: 0.2676 - accuracy: 0.90 - ETA: 3s - loss: 0.2642 - accuracy: 0.90 - ETA: 3s - loss: 0.2646 - accuracy: 0.90 - ETA: 4s - loss: 0.2659 - accuracy: 0.89 - ETA: 4s - loss: 0.2646 - accuracy: 0.90 - ETA: 4s - loss: 0.2672 - accuracy: 0.89 - ETA: 4s - loss: 0.2685 - accuracy: 0.89 - ETA: 4s - loss: 0.2673 - accuracy: 0.89 - ETA: 4s - loss: 0.2699 - accuracy: 0.89 - ETA: 4s - loss: 0.2714 - accuracy: 0.89 - ETA: 4s - loss: 0.2735 - accuracy: 0.89 - ETA: 4s - loss: 0.2762 - accuracy: 0.89 - ETA: 4s - loss: 0.2763 - accuracy: 0.89 - ETA: 4s - loss: 0.2768 - accuracy: 0.89 - ETA: 3s - loss: 0.2777 - accuracy: 0.89 - ETA: 3s - loss: 0.2752 - accuracy: 0.89 - ETA: 3s - loss: 0.2758 - accuracy: 0.89 - ETA: 3s - loss: 0.2756 - accuracy: 0.89 - ETA: 3s - loss: 0.2760 - accuracy: 0.89 - ETA: 3s - loss: 0.2766 - accuracy: 0.89 - ETA: 3s - loss: 0.2758 - accuracy: 0.89 - ETA: 3s - loss: 0.2758 - accuracy: 0.89 - ETA: 3s - loss: 0.2750 - accuracy: 0.89 - ETA: 2s - loss: 0.2741 - accuracy: 0.89 - ETA: 2s - loss: 0.2751 - accuracy: 0.89 - ETA: 2s - loss: 0.2749 - accuracy: 0.89 - ETA: 2s - loss: 0.2765 - accuracy: 0.89 - ETA: 2s - loss: 0.2760 - accuracy: 0.89 - ETA: 2s - loss: 0.2756 - accuracy: 0.89 - ETA: 2s - loss: 0.2757 - accuracy: 0.89 - ETA: 2s - loss: 0.2757 - accuracy: 0.89 - ETA: 2s - loss: 0.2746 - accuracy: 0.89 - ETA: 1s - loss: 0.2754 - accuracy: 0.89 - ETA: 1s - loss: 0.2752 - accuracy: 0.89 - ETA: 1s - loss: 0.2744 - accuracy: 0.89 - ETA: 1s - loss: 0.2733 - accuracy: 0.89 - ETA: 1s - loss: 0.2727 - accuracy: 0.89 - ETA: 1s - loss: 0.2731 - accuracy: 0.89 - ETA: 1s - loss: 0.2736 - accuracy: 0.89 - ETA: 1s - loss: 0.2733 - accuracy: 0.89 - ETA: 1s - loss: 0.2721 - accuracy: 0.89 - ETA: 1s - loss: 0.2717 - accuracy: 0.89 - ETA: 1s - loss: 0.2717 - accuracy: 0.89 - ETA: 1s - loss: 0.2718 - accuracy: 0.89 - ETA: 1s - loss: 0.2710 - accuracy: 0.89 - ETA: 1s - loss: 0.2715 - accuracy: 0.89 - ETA: 1s - loss: 0.2696 - accuracy: 0.89 - ETA: 1s - loss: 0.2696 - accuracy: 0.89 - ETA: 1s - loss: 0.2694 - accuracy: 0.89 - ETA: 0s - loss: 0.2695 - accuracy: 0.89 - ETA: 0s - loss: 0.2694 - accuracy: 0.89 - ETA: 0s - loss: 0.2700 - accuracy: 0.89 - ETA: 0s - loss: 0.2701 - accuracy: 0.89 - ETA: 0s - loss: 0.2699 - accuracy: 0.89 - ETA: 0s - loss: 0.2701 - accuracy: 0.89 - ETA: 0s - loss: 0.2702 - accuracy: 0.89 - ETA: 0s - loss: 0.2700 - accuracy: 0.89 - ETA: 0s - loss: 0.2702 - accuracy: 0.89 - ETA: 0s - loss: 0.2703 - accuracy: 0.89 - ETA: 0s - loss: 0.2702 - accuracy: 0.89 - ETA: 0s - loss: 0.2701 - accuracy: 0.89 - ETA: 0s - loss: 0.2703 - accuracy: 0.89 - ETA: 0s - loss: 0.2707 - accuracy: 0.89 - ETA: 0s - loss: 0.2704 - accuracy: 0.89 - ETA: 0s - loss: 0.2700 - accuracy: 0.89 - ETA: 0s - loss: 0.2701 - accuracy: 0.89 - ETA: 0s - loss: 0.2701 - accuracy: 0.89 - ETA: 0s - loss: 0.2705 - accuracy: 0.89 - ETA: 0s - loss: 0.2705 - accuracy: 0.89 - ETA: 0s - loss: 0.2705 - accuracy: 0.89 - ETA: 0s - loss: 0.2705 - accuracy: 0.89 - ETA: 0s - loss: 0.2706 - accuracy: 0.89 - ETA: 0s - loss: 0.2703 - accuracy: 0.89 - ETA: 0s - loss: 0.2711 - accuracy: 0.89 - ETA: 0s - loss: 0.2710 - accuracy: 0.89 - ETA: 0s - loss: 0.2721 - accuracy: 0.89 - ETA: 0s - loss: 0.2722 - accuracy: 0.89 - 5s 3ms/step - loss: 0.2723 - accuracy: 0.8984 - val_loss: 0.3390 - val_accuracy: 0.8783\n",
      "Epoch 7/10\n",
      "1875/1875 [==============================] - ETA: 0s - loss: 0.3653 - accuracy: 0.87 - ETA: 20s - loss: 0.2848 - accuracy: 0.890 - ETA: 7s - loss: 0.2460 - accuracy: 0.908 - ETA: 6s - loss: 0.2313 - accuracy: 0.91 - ETA: 5s - loss: 0.2363 - accuracy: 0.91 - ETA: 5s - loss: 0.2344 - accuracy: 0.91 - ETA: 4s - loss: 0.2484 - accuracy: 0.90 - ETA: 4s - loss: 0.2461 - accuracy: 0.91 - ETA: 4s - loss: 0.2549 - accuracy: 0.90 - ETA: 3s - loss: 0.2572 - accuracy: 0.90 - ETA: 3s - loss: 0.2582 - accuracy: 0.90 - ETA: 3s - loss: 0.2603 - accuracy: 0.90 - ETA: 3s - loss: 0.2600 - accuracy: 0.90 - ETA: 3s - loss: 0.2577 - accuracy: 0.90 - ETA: 3s - loss: 0.2605 - accuracy: 0.90 - ETA: 3s - loss: 0.2614 - accuracy: 0.90 - ETA: 3s - loss: 0.2582 - accuracy: 0.90 - ETA: 2s - loss: 0.2570 - accuracy: 0.90 - ETA: 2s - loss: 0.2571 - accuracy: 0.90 - ETA: 2s - loss: 0.2568 - accuracy: 0.90 - ETA: 2s - loss: 0.2572 - accuracy: 0.90 - ETA: 2s - loss: 0.2569 - accuracy: 0.90 - ETA: 2s - loss: 0.2557 - accuracy: 0.90 - ETA: 2s - loss: 0.2549 - accuracy: 0.90 - ETA: 2s - loss: 0.2563 - accuracy: 0.90 - ETA: 2s - loss: 0.2563 - accuracy: 0.90 - ETA: 2s - loss: 0.2560 - accuracy: 0.90 - ETA: 2s - loss: 0.2561 - accuracy: 0.90 - ETA: 2s - loss: 0.2562 - accuracy: 0.90 - ETA: 2s - loss: 0.2569 - accuracy: 0.90 - ETA: 2s - loss: 0.2569 - accuracy: 0.90 - ETA: 2s - loss: 0.2563 - accuracy: 0.90 - ETA: 2s - loss: 0.2563 - accuracy: 0.90 - ETA: 1s - loss: 0.2550 - accuracy: 0.90 - ETA: 1s - loss: 0.2550 - accuracy: 0.90 - ETA: 1s - loss: 0.2557 - accuracy: 0.90 - ETA: 1s - loss: 0.2567 - accuracy: 0.90 - ETA: 1s - loss: 0.2563 - accuracy: 0.90 - ETA: 1s - loss: 0.2555 - accuracy: 0.90 - ETA: 1s - loss: 0.2559 - accuracy: 0.90 - ETA: 1s - loss: 0.2560 - accuracy: 0.90 - ETA: 1s - loss: 0.2566 - accuracy: 0.90 - ETA: 1s - loss: 0.2571 - accuracy: 0.90 - ETA: 1s - loss: 0.2562 - accuracy: 0.90 - ETA: 1s - loss: 0.2566 - accuracy: 0.90 - ETA: 1s - loss: 0.2562 - accuracy: 0.90 - ETA: 1s - loss: 0.2562 - accuracy: 0.90 - ETA: 1s - loss: 0.2563 - accuracy: 0.90 - ETA: 1s - loss: 0.2563 - accuracy: 0.90 - ETA: 1s - loss: 0.2563 - accuracy: 0.90 - ETA: 1s - loss: 0.2559 - accuracy: 0.90 - ETA: 1s - loss: 0.2562 - accuracy: 0.90 - ETA: 0s - loss: 0.2558 - accuracy: 0.90 - ETA: 0s - loss: 0.2560 - accuracy: 0.90 - ETA: 0s - loss: 0.2558 - accuracy: 0.90 - ETA: 0s - loss: 0.2557 - accuracy: 0.90 - ETA: 0s - loss: 0.2557 - accuracy: 0.90 - ETA: 0s - loss: 0.2557 - accuracy: 0.90 - ETA: 0s - loss: 0.2556 - accuracy: 0.90 - ETA: 0s - loss: 0.2553 - accuracy: 0.90 - ETA: 0s - loss: 0.2551 - accuracy: 0.90 - ETA: 0s - loss: 0.2557 - accuracy: 0.90 - ETA: 0s - loss: 0.2557 - accuracy: 0.90 - ETA: 0s - loss: 0.2558 - accuracy: 0.90 - ETA: 0s - loss: 0.2555 - accuracy: 0.90 - ETA: 0s - loss: 0.2555 - accuracy: 0.90 - ETA: 0s - loss: 0.2561 - accuracy: 0.90 - ETA: 0s - loss: 0.2560 - accuracy: 0.90 - ETA: 0s - loss: 0.2559 - accuracy: 0.90 - ETA: 0s - loss: 0.2560 - accuracy: 0.90 - ETA: 0s - loss: 0.2561 - accuracy: 0.90 - ETA: 0s - loss: 0.2561 - accuracy: 0.90 - ETA: 0s - loss: 0.2563 - accuracy: 0.90 - ETA: 0s - loss: 0.2566 - accuracy: 0.90 - ETA: 0s - loss: 0.2570 - accuracy: 0.90 - ETA: 0s - loss: 0.2575 - accuracy: 0.90 - ETA: 0s - loss: 0.2574 - accuracy: 0.90 - ETA: 0s - loss: 0.2576 - accuracy: 0.90 - ETA: 0s - loss: 0.2578 - accuracy: 0.90 - 5s 3ms/step - loss: 0.2577 - accuracy: 0.9037 - val_loss: 0.3374 - val_accuracy: 0.8813\n",
      "Epoch 8/10\n"
     ]
    },
    {
     "name": "stdout",
     "output_type": "stream",
     "text": [
      "1875/1875 [==============================] - ETA: 0s - loss: 0.1752 - accuracy: 0.87 - ETA: 12s - loss: 0.2695 - accuracy: 0.909 - ETA: 7s - loss: 0.2452 - accuracy: 0.914 - ETA: 9s - loss: 0.2406 - accuracy: 0.91 - ETA: 11s - loss: 0.2452 - accuracy: 0.909 - ETA: 8s - loss: 0.2442 - accuracy: 0.909 - ETA: 7s - loss: 0.2427 - accuracy: 0.91 - ETA: 7s - loss: 0.2467 - accuracy: 0.90 - ETA: 6s - loss: 0.2447 - accuracy: 0.90 - ETA: 5s - loss: 0.2466 - accuracy: 0.90 - ETA: 5s - loss: 0.2449 - accuracy: 0.90 - ETA: 5s - loss: 0.2441 - accuracy: 0.90 - ETA: 6s - loss: 0.2424 - accuracy: 0.90 - ETA: 5s - loss: 0.2373 - accuracy: 0.91 - ETA: 6s - loss: 0.2369 - accuracy: 0.91 - ETA: 6s - loss: 0.2344 - accuracy: 0.91 - ETA: 6s - loss: 0.2320 - accuracy: 0.91 - ETA: 6s - loss: 0.2379 - accuracy: 0.91 - ETA: 6s - loss: 0.2381 - accuracy: 0.91 - ETA: 6s - loss: 0.2394 - accuracy: 0.91 - ETA: 6s - loss: 0.2404 - accuracy: 0.91 - ETA: 6s - loss: 0.2412 - accuracy: 0.90 - ETA: 6s - loss: 0.2422 - accuracy: 0.90 - ETA: 6s - loss: 0.2429 - accuracy: 0.90 - ETA: 6s - loss: 0.2430 - accuracy: 0.90 - ETA: 6s - loss: 0.2417 - accuracy: 0.90 - ETA: 6s - loss: 0.2418 - accuracy: 0.90 - ETA: 6s - loss: 0.2404 - accuracy: 0.91 - ETA: 6s - loss: 0.2421 - accuracy: 0.90 - ETA: 5s - loss: 0.2405 - accuracy: 0.91 - ETA: 5s - loss: 0.2404 - accuracy: 0.91 - ETA: 5s - loss: 0.2392 - accuracy: 0.91 - ETA: 5s - loss: 0.2387 - accuracy: 0.91 - ETA: 5s - loss: 0.2386 - accuracy: 0.91 - ETA: 5s - loss: 0.2386 - accuracy: 0.91 - ETA: 5s - loss: 0.2383 - accuracy: 0.91 - ETA: 5s - loss: 0.2391 - accuracy: 0.91 - ETA: 4s - loss: 0.2398 - accuracy: 0.91 - ETA: 4s - loss: 0.2409 - accuracy: 0.91 - ETA: 4s - loss: 0.2405 - accuracy: 0.91 - ETA: 4s - loss: 0.2416 - accuracy: 0.91 - ETA: 4s - loss: 0.2420 - accuracy: 0.91 - ETA: 4s - loss: 0.2421 - accuracy: 0.91 - ETA: 4s - loss: 0.2419 - accuracy: 0.91 - ETA: 4s - loss: 0.2417 - accuracy: 0.91 - ETA: 4s - loss: 0.2419 - accuracy: 0.91 - ETA: 4s - loss: 0.2418 - accuracy: 0.91 - ETA: 4s - loss: 0.2413 - accuracy: 0.91 - ETA: 4s - loss: 0.2413 - accuracy: 0.91 - ETA: 4s - loss: 0.2421 - accuracy: 0.90 - ETA: 4s - loss: 0.2420 - accuracy: 0.90 - ETA: 4s - loss: 0.2422 - accuracy: 0.90 - ETA: 4s - loss: 0.2421 - accuracy: 0.90 - ETA: 4s - loss: 0.2425 - accuracy: 0.90 - ETA: 4s - loss: 0.2412 - accuracy: 0.91 - ETA: 4s - loss: 0.2415 - accuracy: 0.91 - ETA: 4s - loss: 0.2409 - accuracy: 0.91 - ETA: 3s - loss: 0.2402 - accuracy: 0.91 - ETA: 3s - loss: 0.2405 - accuracy: 0.91 - ETA: 3s - loss: 0.2415 - accuracy: 0.90 - ETA: 3s - loss: 0.2432 - accuracy: 0.90 - ETA: 3s - loss: 0.2428 - accuracy: 0.90 - ETA: 3s - loss: 0.2429 - accuracy: 0.90 - ETA: 3s - loss: 0.2424 - accuracy: 0.91 - ETA: 3s - loss: 0.2425 - accuracy: 0.90 - ETA: 3s - loss: 0.2427 - accuracy: 0.90 - ETA: 3s - loss: 0.2429 - accuracy: 0.90 - ETA: 3s - loss: 0.2431 - accuracy: 0.90 - ETA: 2s - loss: 0.2438 - accuracy: 0.90 - ETA: 2s - loss: 0.2430 - accuracy: 0.90 - ETA: 2s - loss: 0.2432 - accuracy: 0.90 - ETA: 2s - loss: 0.2436 - accuracy: 0.90 - ETA: 2s - loss: 0.2443 - accuracy: 0.90 - ETA: 1s - loss: 0.2451 - accuracy: 0.90 - ETA: 1s - loss: 0.2454 - accuracy: 0.90 - ETA: 1s - loss: 0.2460 - accuracy: 0.90 - ETA: 1s - loss: 0.2465 - accuracy: 0.90 - ETA: 1s - loss: 0.2460 - accuracy: 0.90 - ETA: 1s - loss: 0.2461 - accuracy: 0.90 - ETA: 1s - loss: 0.2458 - accuracy: 0.90 - ETA: 0s - loss: 0.2457 - accuracy: 0.90 - ETA: 0s - loss: 0.2454 - accuracy: 0.90 - ETA: 0s - loss: 0.2460 - accuracy: 0.90 - ETA: 0s - loss: 0.2457 - accuracy: 0.90 - ETA: 0s - loss: 0.2460 - accuracy: 0.90 - ETA: 0s - loss: 0.2459 - accuracy: 0.90 - ETA: 0s - loss: 0.2461 - accuracy: 0.90 - ETA: 0s - loss: 0.2463 - accuracy: 0.90 - ETA: 0s - loss: 0.2462 - accuracy: 0.90 - ETA: 0s - loss: 0.2459 - accuracy: 0.90 - ETA: 0s - loss: 0.2459 - accuracy: 0.90 - 7s 4ms/step - loss: 0.2459 - accuracy: 0.9086 - val_loss: 0.3405 - val_accuracy: 0.8777\n",
      "Epoch 9/10\n"
     ]
    },
    {
     "name": "stdout",
     "output_type": "stream",
     "text": [
      "1875/1875 [==============================] - ETA: 0s - loss: 0.3493 - accuracy: 0.90 - ETA: 6s - loss: 0.2566 - accuracy: 0.90 - ETA: 3s - loss: 0.2173 - accuracy: 0.91 - ETA: 3s - loss: 0.2253 - accuracy: 0.91 - ETA: 3s - loss: 0.2260 - accuracy: 0.91 - ETA: 2s - loss: 0.2171 - accuracy: 0.91 - ETA: 2s - loss: 0.2165 - accuracy: 0.91 - ETA: 2s - loss: 0.2246 - accuracy: 0.91 - ETA: 3s - loss: 0.2236 - accuracy: 0.91 - ETA: 2s - loss: 0.2208 - accuracy: 0.91 - ETA: 2s - loss: 0.2220 - accuracy: 0.91 - ETA: 2s - loss: 0.2268 - accuracy: 0.91 - ETA: 2s - loss: 0.2284 - accuracy: 0.91 - ETA: 2s - loss: 0.2302 - accuracy: 0.91 - ETA: 2s - loss: 0.2311 - accuracy: 0.91 - ETA: 2s - loss: 0.2325 - accuracy: 0.91 - ETA: 2s - loss: 0.2323 - accuracy: 0.91 - ETA: 2s - loss: 0.2306 - accuracy: 0.91 - ETA: 2s - loss: 0.2305 - accuracy: 0.91 - ETA: 2s - loss: 0.2309 - accuracy: 0.91 - ETA: 3s - loss: 0.2305 - accuracy: 0.91 - ETA: 2s - loss: 0.2326 - accuracy: 0.91 - ETA: 2s - loss: 0.2317 - accuracy: 0.91 - ETA: 2s - loss: 0.2312 - accuracy: 0.91 - ETA: 2s - loss: 0.2302 - accuracy: 0.91 - ETA: 2s - loss: 0.2302 - accuracy: 0.91 - ETA: 2s - loss: 0.2298 - accuracy: 0.91 - ETA: 2s - loss: 0.2304 - accuracy: 0.91 - ETA: 2s - loss: 0.2301 - accuracy: 0.91 - ETA: 2s - loss: 0.2304 - accuracy: 0.91 - ETA: 2s - loss: 0.2313 - accuracy: 0.91 - ETA: 2s - loss: 0.2317 - accuracy: 0.91 - ETA: 2s - loss: 0.2318 - accuracy: 0.91 - ETA: 2s - loss: 0.2321 - accuracy: 0.91 - ETA: 2s - loss: 0.2319 - accuracy: 0.91 - ETA: 2s - loss: 0.2322 - accuracy: 0.91 - ETA: 2s - loss: 0.2327 - accuracy: 0.91 - ETA: 2s - loss: 0.2327 - accuracy: 0.91 - ETA: 2s - loss: 0.2323 - accuracy: 0.91 - ETA: 2s - loss: 0.2323 - accuracy: 0.91 - ETA: 2s - loss: 0.2330 - accuracy: 0.91 - ETA: 2s - loss: 0.2332 - accuracy: 0.91 - ETA: 2s - loss: 0.2330 - accuracy: 0.91 - ETA: 2s - loss: 0.2332 - accuracy: 0.91 - ETA: 2s - loss: 0.2325 - accuracy: 0.91 - ETA: 2s - loss: 0.2321 - accuracy: 0.91 - ETA: 2s - loss: 0.2331 - accuracy: 0.91 - ETA: 2s - loss: 0.2333 - accuracy: 0.91 - ETA: 2s - loss: 0.2331 - accuracy: 0.91 - ETA: 2s - loss: 0.2324 - accuracy: 0.91 - ETA: 2s - loss: 0.2324 - accuracy: 0.91 - ETA: 2s - loss: 0.2322 - accuracy: 0.91 - ETA: 1s - loss: 0.2327 - accuracy: 0.91 - ETA: 1s - loss: 0.2334 - accuracy: 0.91 - ETA: 1s - loss: 0.2335 - accuracy: 0.91 - ETA: 1s - loss: 0.2334 - accuracy: 0.91 - ETA: 2s - loss: 0.2331 - accuracy: 0.91 - ETA: 2s - loss: 0.2331 - accuracy: 0.91 - ETA: 2s - loss: 0.2333 - accuracy: 0.91 - ETA: 2s - loss: 0.2335 - accuracy: 0.91 - ETA: 2s - loss: 0.2336 - accuracy: 0.91 - ETA: 1s - loss: 0.2337 - accuracy: 0.91 - ETA: 1s - loss: 0.2338 - accuracy: 0.91 - ETA: 1s - loss: 0.2348 - accuracy: 0.91 - ETA: 1s - loss: 0.2340 - accuracy: 0.91 - ETA: 1s - loss: 0.2342 - accuracy: 0.91 - ETA: 1s - loss: 0.2348 - accuracy: 0.91 - ETA: 1s - loss: 0.2347 - accuracy: 0.91 - ETA: 1s - loss: 0.2340 - accuracy: 0.91 - ETA: 1s - loss: 0.2342 - accuracy: 0.91 - ETA: 1s - loss: 0.2342 - accuracy: 0.91 - ETA: 1s - loss: 0.2343 - accuracy: 0.91 - ETA: 1s - loss: 0.2344 - accuracy: 0.91 - ETA: 1s - loss: 0.2342 - accuracy: 0.91 - ETA: 1s - loss: 0.2346 - accuracy: 0.91 - ETA: 1s - loss: 0.2345 - accuracy: 0.91 - ETA: 1s - loss: 0.2346 - accuracy: 0.91 - ETA: 0s - loss: 0.2344 - accuracy: 0.91 - ETA: 0s - loss: 0.2345 - accuracy: 0.91 - ETA: 0s - loss: 0.2347 - accuracy: 0.91 - ETA: 0s - loss: 0.2345 - accuracy: 0.91 - ETA: 0s - loss: 0.2346 - accuracy: 0.91 - ETA: 0s - loss: 0.2346 - accuracy: 0.91 - ETA: 0s - loss: 0.2341 - accuracy: 0.91 - ETA: 0s - loss: 0.2341 - accuracy: 0.91 - ETA: 0s - loss: 0.2343 - accuracy: 0.91 - ETA: 0s - loss: 0.2345 - accuracy: 0.91 - ETA: 0s - loss: 0.2341 - accuracy: 0.91 - ETA: 0s - loss: 0.2345 - accuracy: 0.91 - ETA: 0s - loss: 0.2343 - accuracy: 0.91 - ETA: 0s - loss: 0.2341 - accuracy: 0.91 - ETA: 0s - loss: 0.2345 - accuracy: 0.91 - ETA: 0s - loss: 0.2347 - accuracy: 0.91 - ETA: 0s - loss: 0.2350 - accuracy: 0.91 - ETA: 0s - loss: 0.2345 - accuracy: 0.91 - ETA: 0s - loss: 0.2344 - accuracy: 0.91 - ETA: 0s - loss: 0.2344 - accuracy: 0.91 - ETA: 0s - loss: 0.2339 - accuracy: 0.91 - ETA: 0s - loss: 0.2340 - accuracy: 0.91 - ETA: 0s - loss: 0.2338 - accuracy: 0.91 - ETA: 0s - loss: 0.2338 - accuracy: 0.91 - ETA: 0s - loss: 0.2337 - accuracy: 0.91 - ETA: 0s - loss: 0.2341 - accuracy: 0.91 - ETA: 0s - loss: 0.2340 - accuracy: 0.91 - 6s 3ms/step - loss: 0.2343 - accuracy: 0.9121 - val_loss: 0.3284 - val_accuracy: 0.8852\n",
      "Epoch 10/10\n"
     ]
    },
    {
     "name": "stdout",
     "output_type": "stream",
     "text": [
      "1875/1875 [==============================] - ETA: 0s - loss: 0.2755 - accuracy: 0.87 - ETA: 11s - loss: 0.1943 - accuracy: 0.910 - ETA: 6s - loss: 0.2382 - accuracy: 0.914 - ETA: 5s - loss: 0.2238 - accuracy: 0.92 - ETA: 5s - loss: 0.2171 - accuracy: 0.91 - ETA: 6s - loss: 0.2291 - accuracy: 0.91 - ETA: 5s - loss: 0.2235 - accuracy: 0.91 - ETA: 5s - loss: 0.2245 - accuracy: 0.91 - ETA: 5s - loss: 0.2212 - accuracy: 0.91 - ETA: 4s - loss: 0.2206 - accuracy: 0.91 - ETA: 5s - loss: 0.2209 - accuracy: 0.91 - ETA: 5s - loss: 0.2223 - accuracy: 0.91 - ETA: 5s - loss: 0.2220 - accuracy: 0.91 - ETA: 5s - loss: 0.2244 - accuracy: 0.91 - ETA: 6s - loss: 0.2243 - accuracy: 0.91 - ETA: 6s - loss: 0.2247 - accuracy: 0.91 - ETA: 6s - loss: 0.2248 - accuracy: 0.91 - ETA: 6s - loss: 0.2242 - accuracy: 0.91 - ETA: 6s - loss: 0.2241 - accuracy: 0.91 - ETA: 6s - loss: 0.2206 - accuracy: 0.91 - ETA: 6s - loss: 0.2206 - accuracy: 0.91 - ETA: 6s - loss: 0.2218 - accuracy: 0.91 - ETA: 6s - loss: 0.2216 - accuracy: 0.91 - ETA: 6s - loss: 0.2225 - accuracy: 0.91 - ETA: 6s - loss: 0.2244 - accuracy: 0.91 - ETA: 6s - loss: 0.2227 - accuracy: 0.91 - ETA: 6s - loss: 0.2224 - accuracy: 0.91 - ETA: 6s - loss: 0.2220 - accuracy: 0.91 - ETA: 6s - loss: 0.2217 - accuracy: 0.91 - ETA: 6s - loss: 0.2218 - accuracy: 0.91 - ETA: 6s - loss: 0.2222 - accuracy: 0.91 - ETA: 6s - loss: 0.2212 - accuracy: 0.91 - ETA: 6s - loss: 0.2214 - accuracy: 0.91 - ETA: 6s - loss: 0.2213 - accuracy: 0.91 - ETA: 6s - loss: 0.2214 - accuracy: 0.91 - ETA: 6s - loss: 0.2206 - accuracy: 0.91 - ETA: 6s - loss: 0.2206 - accuracy: 0.91 - ETA: 6s - loss: 0.2208 - accuracy: 0.91 - ETA: 6s - loss: 0.2217 - accuracy: 0.91 - ETA: 6s - loss: 0.2221 - accuracy: 0.91 - ETA: 6s - loss: 0.2216 - accuracy: 0.91 - ETA: 6s - loss: 0.2225 - accuracy: 0.91 - ETA: 6s - loss: 0.2235 - accuracy: 0.91 - ETA: 5s - loss: 0.2252 - accuracy: 0.91 - ETA: 5s - loss: 0.2239 - accuracy: 0.91 - ETA: 5s - loss: 0.2241 - accuracy: 0.91 - ETA: 5s - loss: 0.2234 - accuracy: 0.91 - ETA: 5s - loss: 0.2237 - accuracy: 0.91 - ETA: 5s - loss: 0.2234 - accuracy: 0.91 - ETA: 5s - loss: 0.2235 - accuracy: 0.91 - ETA: 5s - loss: 0.2236 - accuracy: 0.91 - ETA: 5s - loss: 0.2235 - accuracy: 0.91 - ETA: 5s - loss: 0.2231 - accuracy: 0.91 - ETA: 5s - loss: 0.2229 - accuracy: 0.91 - ETA: 5s - loss: 0.2230 - accuracy: 0.91 - ETA: 5s - loss: 0.2245 - accuracy: 0.91 - ETA: 4s - loss: 0.2242 - accuracy: 0.91 - ETA: 4s - loss: 0.2241 - accuracy: 0.91 - ETA: 4s - loss: 0.2242 - accuracy: 0.91 - ETA: 4s - loss: 0.2246 - accuracy: 0.91 - ETA: 4s - loss: 0.2253 - accuracy: 0.91 - ETA: 4s - loss: 0.2253 - accuracy: 0.91 - ETA: 4s - loss: 0.2246 - accuracy: 0.91 - ETA: 3s - loss: 0.2244 - accuracy: 0.91 - ETA: 3s - loss: 0.2239 - accuracy: 0.91 - ETA: 3s - loss: 0.2237 - accuracy: 0.91 - ETA: 3s - loss: 0.2236 - accuracy: 0.91 - ETA: 3s - loss: 0.2242 - accuracy: 0.91 - ETA: 3s - loss: 0.2249 - accuracy: 0.91 - ETA: 3s - loss: 0.2245 - accuracy: 0.91 - ETA: 2s - loss: 0.2244 - accuracy: 0.91 - ETA: 2s - loss: 0.2251 - accuracy: 0.91 - ETA: 2s - loss: 0.2260 - accuracy: 0.91 - ETA: 2s - loss: 0.2266 - accuracy: 0.91 - ETA: 2s - loss: 0.2263 - accuracy: 0.91 - ETA: 2s - loss: 0.2263 - accuracy: 0.91 - ETA: 2s - loss: 0.2264 - accuracy: 0.91 - ETA: 2s - loss: 0.2264 - accuracy: 0.91 - ETA: 2s - loss: 0.2262 - accuracy: 0.91 - ETA: 1s - loss: 0.2267 - accuracy: 0.91 - ETA: 1s - loss: 0.2270 - accuracy: 0.91 - ETA: 1s - loss: 0.2270 - accuracy: 0.91 - ETA: 1s - loss: 0.2268 - accuracy: 0.91 - ETA: 1s - loss: 0.2267 - accuracy: 0.91 - ETA: 1s - loss: 0.2267 - accuracy: 0.91 - ETA: 1s - loss: 0.2266 - accuracy: 0.91 - ETA: 1s - loss: 0.2266 - accuracy: 0.91 - ETA: 1s - loss: 0.2262 - accuracy: 0.91 - ETA: 1s - loss: 0.2268 - accuracy: 0.91 - ETA: 1s - loss: 0.2274 - accuracy: 0.91 - ETA: 1s - loss: 0.2273 - accuracy: 0.91 - ETA: 1s - loss: 0.2269 - accuracy: 0.91 - ETA: 1s - loss: 0.2271 - accuracy: 0.91 - ETA: 1s - loss: 0.2270 - accuracy: 0.91 - ETA: 1s - loss: 0.2269 - accuracy: 0.91 - ETA: 1s - loss: 0.2269 - accuracy: 0.91 - ETA: 0s - loss: 0.2268 - accuracy: 0.91 - ETA: 0s - loss: 0.2271 - accuracy: 0.91 - ETA: 0s - loss: 0.2271 - accuracy: 0.91 - ETA: 0s - loss: 0.2272 - accuracy: 0.91 - ETA: 0s - loss: 0.2272 - accuracy: 0.91 - ETA: 0s - loss: 0.2274 - accuracy: 0.91 - ETA: 0s - loss: 0.2274 - accuracy: 0.91 - ETA: 0s - loss: 0.2273 - accuracy: 0.91 - ETA: 0s - loss: 0.2275 - accuracy: 0.91 - ETA: 0s - loss: 0.2276 - accuracy: 0.91 - ETA: 0s - loss: 0.2276 - accuracy: 0.91 - ETA: 0s - loss: 0.2276 - accuracy: 0.91 - ETA: 0s - loss: 0.2278 - accuracy: 0.91 - ETA: 0s - loss: 0.2278 - accuracy: 0.91 - ETA: 0s - loss: 0.2277 - accuracy: 0.91 - 10s 5ms/step - loss: 0.2277 - accuracy: 0.9144 - val_loss: 0.3376 - val_accuracy: 0.8791\n"
     ]
    },
    {
     "data": {
      "text/plain": [
       "<tensorflow.python.keras.callbacks.History at 0x7f14ec08d0d0>"
      ]
     },
     "execution_count": 9,
     "metadata": {},
     "output_type": "execute_result"
    }
   ],
   "source": [
    "# Build the model with the optimal hyperparameters and train it on the data\n",
    "model = tuner.hypermodel.build(best_hps)\n",
    "model.fit(img_train, label_train, epochs = 10, validation_data = (img_test, label_test))"
   ]
  }
 ],
 "metadata": {
  "kernelspec": {
   "display_name": "Python 3",
   "language": "python",
   "name": "python3"
  },
  "language_info": {
   "codemirror_mode": {
    "name": "ipython",
    "version": 3
   },
   "file_extension": ".py",
   "mimetype": "text/x-python",
   "name": "python",
   "nbconvert_exporter": "python",
   "pygments_lexer": "ipython3",
   "version": "3.7.9"
  }
 },
 "nbformat": 4,
 "nbformat_minor": 4
}
